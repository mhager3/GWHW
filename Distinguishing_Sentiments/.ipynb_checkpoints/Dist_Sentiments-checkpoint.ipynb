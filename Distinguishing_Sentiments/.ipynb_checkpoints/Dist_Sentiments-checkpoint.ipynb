{
 "cells": [
  {
   "cell_type": "code",
   "execution_count": 72,
   "metadata": {
    "collapsed": true
   },
   "outputs": [],
   "source": [
    "# Dependencies\n",
    "import tweepy\n",
    "import pandas as pd\n",
    "import json\n",
    "import numpy as np\n",
    "import matplotlib.pyplot as plt\n",
    "import seaborn as sns\n",
    "from datetime import datetime\n",
    "from twitconfig import (consumer_key, consumer_secret, access_token, access_token_secret)\n",
    "\n",
    "from vaderSentiment.vaderSentiment import SentimentIntensityAnalyzer\n",
    "analyzer = SentimentIntensityAnalyzer()\n",
    "\n",
    "from pprint import pprint"
   ]
  },
  {
   "cell_type": "code",
   "execution_count": 73,
   "metadata": {
    "collapsed": true
   },
   "outputs": [],
   "source": [
    "# Twitter API Keys\n",
    "consumer_key = consumer_key\n",
    "consumer_secret = consumer_secret\n",
    "access_token = access_token\n",
    "access_token_secret = access_token_secret"
   ]
  },
  {
   "cell_type": "code",
   "execution_count": 74,
   "metadata": {
    "collapsed": true
   },
   "outputs": [],
   "source": [
    "# Setup Tweepy API Authentication\n",
    "auth = tweepy.OAuthHandler(consumer_key, consumer_secret)\n",
    "auth.set_access_token(access_token, access_token_secret)\n",
    "api = tweepy.API(auth, parser=tweepy.parsers.JSONParser())"
   ]
  },
  {
   "cell_type": "code",
   "execution_count": 75,
   "metadata": {
    "collapsed": true
   },
   "outputs": [],
   "source": [
    "# Target Search Term\n",
    "target_terms = (\"@CNN\", \"@BBC\", \"@CBS\",\n",
    "                \"@FoxNews\", \"@nytimes\")"
   ]
  },
  {
   "cell_type": "code",
   "execution_count": 76,
   "metadata": {
    "collapsed": true
   },
   "outputs": [],
   "source": [
    "# List to hold results\n",
    "results_list = []\n",
    "ctr = 0\n",
    "\n",
    "# create dataframe to hold all tweets with the columns\n",
    "all_tweet_df = pd.DataFrame(columns= ['Source', 'Text', 'Date', 'Compound', 'Positive', \n",
    "                                      'Neutral', 'Negative', 'Counter'])\n",
    "\n",
    "# Loop through all target users\n",
    "for target in target_terms:\n",
    "\n",
    "    # Variable for holding the oldest tweet\n",
    "    oldest_tweet = None\n",
    "\n",
    "    # Variables for holding sentiments\n",
    "    compound_list = []\n",
    "    positive_list = []\n",
    "    negative_list = []\n",
    "    neutral_list = []\n",
    "    tweet_number = []\n",
    "    tweet_text = []\n",
    "    created_at = []\n",
    "\n",
    "    # get tweets using the api_timeline to return status objects\n",
    "    public_tweets = api.user_timeline(screen_name = target, count=100)\n",
    "\n",
    "    # Loop through all tweets\n",
    "    for tweet in public_tweets:\n",
    "        ctr += 1\n",
    "\n",
    "        # Run Vader Analysis on each tweet\n",
    "        results = analyzer.polarity_scores(tweet[\"text\"])\n",
    "        compound = results[\"compound\"]\n",
    "        pos = results[\"pos\"]\n",
    "        neu = results[\"neu\"]\n",
    "        neg = results[\"neg\"]\n",
    "\n",
    "        # Add each value to the appropriate list\n",
    "        compound_list.append(compound)\n",
    "        positive_list.append(pos)\n",
    "        negative_list.append(neg)\n",
    "        neutral_list.append(neu)\n",
    "        tweet_number.append(ctr)\n",
    "        tweet_text.append(tweet[\"text\"])\n",
    "        created_at.append(tweet[\"created_at\"])\n",
    "\n",
    "        # Set the new oldest_tweet value\n",
    "        oldest_tweet = tweet[\"id\"] - 1\n",
    "    \n",
    "    # append Dataframe with above data \n",
    "        all_tweet_df = all_tweet_df.append({'Source':target, 'Text':tweet['text'], 'Date':tweet['created_at'], \n",
    "                                            'Compound':compound, 'Positive':pos, 'Neutral':neu, \n",
    "                                            'Negative':neg, 'Counter':ctr}, ignore_index=True)\n",
    "        \n",
    "    # reset ctr for next target/username\n",
    "    ctr = 0\n",
    "    \n",
    "    # Store the Average Sentiments\n",
    "    sentiment = {\n",
    "        \"Source\": target,\n",
    "        \"Compound\": np.mean(compound_list),\n",
    "        \"Positive\": np.mean(positive_list),\n",
    "        \"Neutral\": np.mean(negative_list),\n",
    "        \"Negative\": np.mean(neutral_list),\n",
    "        \"Tweet Count\": len(compound_list)\n",
    "    }\n",
    "    \n",
    "    # Append airline results to 'results_list'\n",
    "    results_list.append(sentiment)"
   ]
  },
  {
   "cell_type": "code",
   "execution_count": 77,
   "metadata": {},
   "outputs": [
    {
     "data": {
      "text/html": [
       "<div>\n",
       "<style>\n",
       "    .dataframe thead tr:only-child th {\n",
       "        text-align: right;\n",
       "    }\n",
       "\n",
       "    .dataframe thead th {\n",
       "        text-align: left;\n",
       "    }\n",
       "\n",
       "    .dataframe tbody tr th {\n",
       "        vertical-align: top;\n",
       "    }\n",
       "</style>\n",
       "<table border=\"1\" class=\"dataframe\">\n",
       "  <thead>\n",
       "    <tr style=\"text-align: right;\">\n",
       "      <th></th>\n",
       "      <th>Compound</th>\n",
       "      <th>Negative</th>\n",
       "      <th>Neutral</th>\n",
       "      <th>Positive</th>\n",
       "      <th>Source</th>\n",
       "      <th>Tweet Count</th>\n",
       "    </tr>\n",
       "  </thead>\n",
       "  <tbody>\n",
       "    <tr>\n",
       "      <th>0</th>\n",
       "      <td>-0.070301</td>\n",
       "      <td>0.87103</td>\n",
       "      <td>0.07567</td>\n",
       "      <td>0.05327</td>\n",
       "      <td>@CNN</td>\n",
       "      <td>100</td>\n",
       "    </tr>\n",
       "    <tr>\n",
       "      <th>1</th>\n",
       "      <td>0.065494</td>\n",
       "      <td>0.84048</td>\n",
       "      <td>0.06639</td>\n",
       "      <td>0.09314</td>\n",
       "      <td>@BBC</td>\n",
       "      <td>100</td>\n",
       "    </tr>\n",
       "    <tr>\n",
       "      <th>2</th>\n",
       "      <td>0.386990</td>\n",
       "      <td>0.80656</td>\n",
       "      <td>0.01663</td>\n",
       "      <td>0.17681</td>\n",
       "      <td>@CBS</td>\n",
       "      <td>100</td>\n",
       "    </tr>\n",
       "    <tr>\n",
       "      <th>3</th>\n",
       "      <td>0.087891</td>\n",
       "      <td>0.84360</td>\n",
       "      <td>0.06348</td>\n",
       "      <td>0.09290</td>\n",
       "      <td>@FoxNews</td>\n",
       "      <td>100</td>\n",
       "    </tr>\n",
       "    <tr>\n",
       "      <th>4</th>\n",
       "      <td>-0.022174</td>\n",
       "      <td>0.88544</td>\n",
       "      <td>0.06094</td>\n",
       "      <td>0.05360</td>\n",
       "      <td>@nytimes</td>\n",
       "      <td>100</td>\n",
       "    </tr>\n",
       "  </tbody>\n",
       "</table>\n",
       "</div>"
      ],
      "text/plain": [
       "   Compound  Negative  Neutral  Positive    Source  Tweet Count\n",
       "0 -0.070301   0.87103  0.07567   0.05327      @CNN          100\n",
       "1  0.065494   0.84048  0.06639   0.09314      @BBC          100\n",
       "2  0.386990   0.80656  0.01663   0.17681      @CBS          100\n",
       "3  0.087891   0.84360  0.06348   0.09290  @FoxNews          100\n",
       "4 -0.022174   0.88544  0.06094   0.05360  @nytimes          100"
      ]
     },
     "execution_count": 77,
     "metadata": {},
     "output_type": "execute_result"
    }
   ],
   "source": [
    "summary_df = pd.DataFrame(results_list)\n",
    "summary_df"
   ]
  },
  {
   "cell_type": "code",
   "execution_count": 78,
   "metadata": {},
   "outputs": [
    {
     "data": {
      "text/html": [
       "<div>\n",
       "<style>\n",
       "    .dataframe thead tr:only-child th {\n",
       "        text-align: right;\n",
       "    }\n",
       "\n",
       "    .dataframe thead th {\n",
       "        text-align: left;\n",
       "    }\n",
       "\n",
       "    .dataframe tbody tr th {\n",
       "        vertical-align: top;\n",
       "    }\n",
       "</style>\n",
       "<table border=\"1\" class=\"dataframe\">\n",
       "  <thead>\n",
       "    <tr style=\"text-align: right;\">\n",
       "      <th></th>\n",
       "      <th>Source</th>\n",
       "      <th>Text</th>\n",
       "      <th>Date</th>\n",
       "      <th>Compound</th>\n",
       "      <th>Positive</th>\n",
       "      <th>Neutral</th>\n",
       "      <th>Negative</th>\n",
       "      <th>Counter</th>\n",
       "    </tr>\n",
       "  </thead>\n",
       "  <tbody>\n",
       "    <tr>\n",
       "      <th>0</th>\n",
       "      <td>@CNN</td>\n",
       "      <td>NBC News corrects explosive story on Michael C...</td>\n",
       "      <td>Thu May 03 22:03:05 +0000 2018</td>\n",
       "      <td>0.0000</td>\n",
       "      <td>0.000</td>\n",
       "      <td>1.000</td>\n",
       "      <td>0.000</td>\n",
       "      <td>1</td>\n",
       "    </tr>\n",
       "    <tr>\n",
       "      <th>1</th>\n",
       "      <td>@CNN</td>\n",
       "      <td>Kim Kardashian West wants this woman released ...</td>\n",
       "      <td>Thu May 03 21:47:29 +0000 2018</td>\n",
       "      <td>-0.5106</td>\n",
       "      <td>0.000</td>\n",
       "      <td>0.837</td>\n",
       "      <td>0.163</td>\n",
       "      <td>2</td>\n",
       "    </tr>\n",
       "    <tr>\n",
       "      <th>2</th>\n",
       "      <td>@CNN</td>\n",
       "      <td>Hosts of a Detroit radio station say they'll n...</td>\n",
       "      <td>Thu May 03 21:09:07 +0000 2018</td>\n",
       "      <td>0.0516</td>\n",
       "      <td>0.117</td>\n",
       "      <td>0.777</td>\n",
       "      <td>0.107</td>\n",
       "      <td>3</td>\n",
       "    </tr>\n",
       "    <tr>\n",
       "      <th>3</th>\n",
       "      <td>@CNN</td>\n",
       "      <td>Twitter is recommending users change their pas...</td>\n",
       "      <td>Thu May 03 20:51:05 +0000 2018</td>\n",
       "      <td>0.4215</td>\n",
       "      <td>0.135</td>\n",
       "      <td>0.865</td>\n",
       "      <td>0.000</td>\n",
       "      <td>4</td>\n",
       "    </tr>\n",
       "    <tr>\n",
       "      <th>4</th>\n",
       "      <td>@CNN</td>\n",
       "      <td>President Trump stays silent on adult film sta...</td>\n",
       "      <td>Thu May 03 20:40:31 +0000 2018</td>\n",
       "      <td>0.0000</td>\n",
       "      <td>0.000</td>\n",
       "      <td>1.000</td>\n",
       "      <td>0.000</td>\n",
       "      <td>5</td>\n",
       "    </tr>\n",
       "  </tbody>\n",
       "</table>\n",
       "</div>"
      ],
      "text/plain": [
       "  Source                                               Text  \\\n",
       "0   @CNN  NBC News corrects explosive story on Michael C...   \n",
       "1   @CNN  Kim Kardashian West wants this woman released ...   \n",
       "2   @CNN  Hosts of a Detroit radio station say they'll n...   \n",
       "3   @CNN  Twitter is recommending users change their pas...   \n",
       "4   @CNN  President Trump stays silent on adult film sta...   \n",
       "\n",
       "                             Date  Compound  Positive  Neutral  Negative  \\\n",
       "0  Thu May 03 22:03:05 +0000 2018    0.0000     0.000    1.000     0.000   \n",
       "1  Thu May 03 21:47:29 +0000 2018   -0.5106     0.000    0.837     0.163   \n",
       "2  Thu May 03 21:09:07 +0000 2018    0.0516     0.117    0.777     0.107   \n",
       "3  Thu May 03 20:51:05 +0000 2018    0.4215     0.135    0.865     0.000   \n",
       "4  Thu May 03 20:40:31 +0000 2018    0.0000     0.000    1.000     0.000   \n",
       "\n",
       "  Counter  \n",
       "0       1  \n",
       "1       2  \n",
       "2       3  \n",
       "3       4  \n",
       "4       5  "
      ]
     },
     "execution_count": 78,
     "metadata": {},
     "output_type": "execute_result"
    }
   ],
   "source": [
    "all_tweet_df.head()"
   ]
  },
  {
   "cell_type": "code",
   "execution_count": 79,
   "metadata": {
    "collapsed": true
   },
   "outputs": [],
   "source": [
    "# send all_tweet_df to csv as per the instructions\n",
    "all_tweet_df.to_csv(\"SentimentDF.csv\")"
   ]
  },
  {
   "cell_type": "code",
   "execution_count": 80,
   "metadata": {
    "scrolled": true
   },
   "outputs": [
    {
     "data": {
      "text/plain": [
       "0      0.0000\n",
       "1     -0.5106\n",
       "2      0.0516\n",
       "3      0.4215\n",
       "4      0.0000\n",
       "100   -0.6006\n",
       "101   -0.5994\n",
       "102    0.6369\n",
       "103    0.0000\n",
       "104    0.0000\n",
       "200    0.0000\n",
       "201    0.0000\n",
       "202    0.0000\n",
       "203    0.8268\n",
       "204    0.8777\n",
       "300    0.0000\n",
       "301    0.0000\n",
       "302    0.0000\n",
       "303   -0.1280\n",
       "304   -0.7579\n",
       "400    0.2960\n",
       "401    0.2732\n",
       "402   -0.1655\n",
       "403    0.7269\n",
       "404    0.0000\n",
       "Name: Compound, dtype: float64"
      ]
     },
     "execution_count": 80,
     "metadata": {},
     "output_type": "execute_result"
    }
   ],
   "source": [
    "df = all_tweet_df.groupby(['Source'])['Compound']\n",
    "df.head()"
   ]
  },
  {
   "cell_type": "code",
   "execution_count": null,
   "metadata": {
    "collapsed": true
   },
   "outputs": [],
   "source": []
  },
  {
   "cell_type": "code",
   "execution_count": 82,
   "metadata": {},
   "outputs": [
    {
     "data": {
      "image/png": "[encoded data removed]",
      "text/plain": [
       "<matplotlib.figure.Figure at 0x19164d5e3c8>"
      ]
     },
     "metadata": {},
     "output_type": "display_data"
    }
   ],
   "source": [
    "ax = sns.lmplot(\"Counter\", \"Compound\", data=all_tweet_df, hue='Source', fit_reg=False, size=8,aspect=1.3, legend_out=True)\n",
    "plt.gca().invert_xaxis()\n",
    "now = datetime.now()\n",
    "now = now.strftime(\"%m/%d/%Y\")\n",
    "plt.title(f\"Sentiment Analysis of Media Tweets ({now})\")\n",
    "plt.xlabel(\"Tweets Ago\")\n",
    "plt.ylabel(\"Tweet Polarity\")\n",
    "plt.ylim(1,-1)\n",
    "plt.show()"
   ]
  },
  {
   "cell_type": "code",
   "execution_count": null,
   "metadata": {
    "collapsed": true
   },
   "outputs": [],
   "source": []
  }
 ],
 "metadata": {
  "kernelspec": {
   "display_name": "Python 3",
   "language": "python",
   "name": "python3"
  },
  "language_info": {
   "codemirror_mode": {
    "name": "ipython",
    "version": 3
   },
   "file_extension": ".py",
   "mimetype": "text/x-python",
   "name": "python",
   "nbconvert_exporter": "python",
   "pygments_lexer": "ipython3",
   "version": "3.6.3"
  }
 },
 "nbformat": 4,
 "nbformat_minor": 2
}
