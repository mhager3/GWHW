{
 "cells": [
  {
   "cell_type": "markdown",
   "metadata": {},
   "source": [
    "Three observable trends on the data:\n",
    "    1. Most tweets from news sources are neutral when scored by vader\n",
    "    2. 4 of the 5 news sources are positive in their compound score, though still relatively close to neutral\n",
    "        a) CBS is the most positive\n",
    "        b) CNN is the only negative\n",
    "    3. Though most tweets are scored neutral, and the compound lean toward neutral, there are significant positive and negative tweets, leading me to believe there is a canceling-out effect happening in the model."
   ]
  },
  {
   "cell_type": "code",
   "execution_count": 16,
   "metadata": {
    "collapsed": true
   },
   "outputs": [],
   "source": [
    "# Dependencies\n",
    "import tweepy\n",
    "import pandas as pd\n",
    "import json\n",
    "import numpy as np\n",
    "import matplotlib.pyplot as plt\n",
    "import seaborn as sns\n",
    "from datetime import datetime\n",
    "from twitconfig import (consumer_key, consumer_secret, access_token, access_token_secret)\n",
    "\n",
    "from vaderSentiment.vaderSentiment import SentimentIntensityAnalyzer\n",
    "analyzer = SentimentIntensityAnalyzer()\n",
    "\n",
    "from pprint import pprint"
   ]
  },
  {
   "cell_type": "code",
   "execution_count": 17,
   "metadata": {
    "collapsed": true
   },
   "outputs": [],
   "source": [
    "# Twitter API Keys\n",
    "consumer_key = consumer_key\n",
    "consumer_secret = consumer_secret\n",
    "access_token = access_token\n",
    "access_token_secret = access_token_secret"
   ]
  },
  {
   "cell_type": "code",
   "execution_count": 18,
   "metadata": {
    "collapsed": true
   },
   "outputs": [],
   "source": [
    "# Setup Tweepy API Authentication\n",
    "auth = tweepy.OAuthHandler(consumer_key, consumer_secret)\n",
    "auth.set_access_token(access_token, access_token_secret)\n",
    "api = tweepy.API(auth, parser=tweepy.parsers.JSONParser())"
   ]
  },
  {
   "cell_type": "code",
   "execution_count": 19,
   "metadata": {
    "collapsed": true
   },
   "outputs": [],
   "source": [
    "# Target Search Term\n",
    "target_terms = (\"@CNN\", \"@BBC\", \"@CBS\",\n",
    "                \"@FoxNews\", \"@nytimes\")"
   ]
  },
  {
   "cell_type": "code",
   "execution_count": 20,
   "metadata": {
    "collapsed": true
   },
   "outputs": [],
   "source": [
    "# List to hold results\n",
    "results_list = []\n",
    "ctr = 0\n",
    "\n",
    "# create dataframe to hold all tweets with the columns\n",
    "all_tweet_df = pd.DataFrame(columns= ['Source', 'Text', 'Date', 'Compound', 'Positive', \n",
    "                                      'Neutral', 'Negative', 'Counter'])\n",
    "\n",
    "# Loop through all target users\n",
    "for target in target_terms:\n",
    "\n",
    "    # Variable for holding the oldest tweet\n",
    "    oldest_tweet = None\n",
    "\n",
    "    # Variables for holding sentiments\n",
    "    compound_list = []\n",
    "    positive_list = []\n",
    "    negative_list = []\n",
    "    neutral_list = []\n",
    "    tweet_number = []\n",
    "    tweet_text = []\n",
    "    created_at = []\n",
    "\n",
    "    # get tweets using the api_timeline to return status objects\n",
    "    public_tweets = api.user_timeline(screen_name = target, count=100)\n",
    "\n",
    "    # Loop through all tweets\n",
    "    for tweet in public_tweets:\n",
    "        ctr += 1\n",
    "\n",
    "        # Run Vader Analysis on each tweet\n",
    "        results = analyzer.polarity_scores(tweet[\"text\"])\n",
    "        compound = results[\"compound\"]\n",
    "        pos = results[\"pos\"]\n",
    "        neu = results[\"neu\"]\n",
    "        neg = results[\"neg\"]\n",
    "\n",
    "        # Add each value to the appropriate list\n",
    "        compound_list.append(compound)\n",
    "        positive_list.append(pos)\n",
    "        negative_list.append(neg)\n",
    "        neutral_list.append(neu)\n",
    "        tweet_number.append(ctr)\n",
    "        tweet_text.append(tweet[\"text\"])\n",
    "        created_at.append(tweet[\"created_at\"])\n",
    "\n",
    "        # Set the new oldest_tweet value\n",
    "        oldest_tweet = tweet[\"id\"] - 1\n",
    "    \n",
    "    # append Dataframe with above data \n",
    "        all_tweet_df = all_tweet_df.append({'Source':target, 'Text':tweet['text'], 'Date':tweet['created_at'], \n",
    "                                            'Compound':compound, 'Positive':pos, 'Neutral':neu, \n",
    "                                            'Negative':neg, 'Counter':ctr}, ignore_index=True)\n",
    "        \n",
    "    # reset ctr for next target/username\n",
    "    ctr = 0\n",
    "    \n",
    "    # Store the Average Sentiments\n",
    "    sentiment = {\n",
    "        \"Source\": target,\n",
    "        \"Compound\": np.mean(compound_list),\n",
    "        \"Positive\": np.mean(positive_list),\n",
    "        \"Neutral\": np.mean(negative_list),\n",
    "        \"Negative\": np.mean(neutral_list),\n",
    "        \"Tweet Count\": len(compound_list)\n",
    "    }\n",
    "    \n",
    "    # Append airline results to 'results_list'\n",
    "    results_list.append(sentiment)"
   ]
  },
  {
   "cell_type": "code",
   "execution_count": 21,
   "metadata": {},
   "outputs": [
    {
     "data": {
      "text/html": [
       "<div>\n",
       "<style>\n",
       "    .dataframe thead tr:only-child th {\n",
       "        text-align: right;\n",
       "    }\n",
       "\n",
       "    .dataframe thead th {\n",
       "        text-align: left;\n",
       "    }\n",
       "\n",
       "    .dataframe tbody tr th {\n",
       "        vertical-align: top;\n",
       "    }\n",
       "</style>\n",
       "<table border=\"1\" class=\"dataframe\">\n",
       "  <thead>\n",
       "    <tr style=\"text-align: right;\">\n",
       "      <th></th>\n",
       "      <th>Compound</th>\n",
       "      <th>Negative</th>\n",
       "      <th>Neutral</th>\n",
       "      <th>Positive</th>\n",
       "      <th>Source</th>\n",
       "      <th>Tweet Count</th>\n",
       "    </tr>\n",
       "  </thead>\n",
       "  <tbody>\n",
       "    <tr>\n",
       "      <th>0</th>\n",
       "      <td>-0.059745</td>\n",
       "      <td>0.86046</td>\n",
       "      <td>0.08171</td>\n",
       "      <td>0.05780</td>\n",
       "      <td>@CNN</td>\n",
       "      <td>100</td>\n",
       "    </tr>\n",
       "    <tr>\n",
       "      <th>1</th>\n",
       "      <td>0.108220</td>\n",
       "      <td>0.86863</td>\n",
       "      <td>0.04251</td>\n",
       "      <td>0.08885</td>\n",
       "      <td>@BBC</td>\n",
       "      <td>100</td>\n",
       "    </tr>\n",
       "    <tr>\n",
       "      <th>2</th>\n",
       "      <td>0.341700</td>\n",
       "      <td>0.82289</td>\n",
       "      <td>0.02378</td>\n",
       "      <td>0.15333</td>\n",
       "      <td>@CBS</td>\n",
       "      <td>100</td>\n",
       "    </tr>\n",
       "    <tr>\n",
       "      <th>3</th>\n",
       "      <td>0.016680</td>\n",
       "      <td>0.81685</td>\n",
       "      <td>0.08890</td>\n",
       "      <td>0.09424</td>\n",
       "      <td>@FoxNews</td>\n",
       "      <td>100</td>\n",
       "    </tr>\n",
       "    <tr>\n",
       "      <th>4</th>\n",
       "      <td>0.040954</td>\n",
       "      <td>0.86101</td>\n",
       "      <td>0.05775</td>\n",
       "      <td>0.08121</td>\n",
       "      <td>@nytimes</td>\n",
       "      <td>100</td>\n",
       "    </tr>\n",
       "  </tbody>\n",
       "</table>\n",
       "</div>"
      ],
      "text/plain": [
       "   Compound  Negative  Neutral  Positive    Source  Tweet Count\n",
       "0 -0.059745   0.86046  0.08171   0.05780      @CNN          100\n",
       "1  0.108220   0.86863  0.04251   0.08885      @BBC          100\n",
       "2  0.341700   0.82289  0.02378   0.15333      @CBS          100\n",
       "3  0.016680   0.81685  0.08890   0.09424  @FoxNews          100\n",
       "4  0.040954   0.86101  0.05775   0.08121  @nytimes          100"
      ]
     },
     "execution_count": 21,
     "metadata": {},
     "output_type": "execute_result"
    }
   ],
   "source": [
    "summary_df = pd.DataFrame(results_list)\n",
    "summary_df"
   ]
  },
  {
   "cell_type": "code",
   "execution_count": 22,
   "metadata": {},
   "outputs": [
    {
     "data": {
      "text/html": [
       "<div>\n",
       "<style>\n",
       "    .dataframe thead tr:only-child th {\n",
       "        text-align: right;\n",
       "    }\n",
       "\n",
       "    .dataframe thead th {\n",
       "        text-align: left;\n",
       "    }\n",
       "\n",
       "    .dataframe tbody tr th {\n",
       "        vertical-align: top;\n",
       "    }\n",
       "</style>\n",
       "<table border=\"1\" class=\"dataframe\">\n",
       "  <thead>\n",
       "    <tr style=\"text-align: right;\">\n",
       "      <th></th>\n",
       "      <th>Source</th>\n",
       "      <th>Text</th>\n",
       "      <th>Date</th>\n",
       "      <th>Compound</th>\n",
       "      <th>Positive</th>\n",
       "      <th>Neutral</th>\n",
       "      <th>Negative</th>\n",
       "      <th>Counter</th>\n",
       "    </tr>\n",
       "  </thead>\n",
       "  <tbody>\n",
       "    <tr>\n",
       "      <th>0</th>\n",
       "      <td>@CNN</td>\n",
       "      <td>Looking for lower Medicare drug costs? Ask you...</td>\n",
       "      <td>Sun Jun 03 18:00:10 +0000 2018</td>\n",
       "      <td>-0.2960</td>\n",
       "      <td>0.000</td>\n",
       "      <td>0.864</td>\n",
       "      <td>0.136</td>\n",
       "      <td>1</td>\n",
       "    </tr>\n",
       "    <tr>\n",
       "      <th>1</th>\n",
       "      <td>@CNN</td>\n",
       "      <td>Former US attorney Preet Bharara says Presiden...</td>\n",
       "      <td>Sun Jun 03 17:45:09 +0000 2018</td>\n",
       "      <td>0.4019</td>\n",
       "      <td>0.153</td>\n",
       "      <td>0.847</td>\n",
       "      <td>0.000</td>\n",
       "      <td>2</td>\n",
       "    </tr>\n",
       "    <tr>\n",
       "      <th>2</th>\n",
       "      <td>@CNN</td>\n",
       "      <td>Canadian official Chrystia Freeland calls Pres...</td>\n",
       "      <td>Sun Jun 03 17:30:15 +0000 2018</td>\n",
       "      <td>-0.4939</td>\n",
       "      <td>0.000</td>\n",
       "      <td>0.758</td>\n",
       "      <td>0.242</td>\n",
       "      <td>3</td>\n",
       "    </tr>\n",
       "    <tr>\n",
       "      <th>3</th>\n",
       "      <td>@CNN</td>\n",
       "      <td>How one month reshaped the US immigration land...</td>\n",
       "      <td>Sun Jun 03 17:15:08 +0000 2018</td>\n",
       "      <td>0.0000</td>\n",
       "      <td>0.000</td>\n",
       "      <td>1.000</td>\n",
       "      <td>0.000</td>\n",
       "      <td>4</td>\n",
       "    </tr>\n",
       "    <tr>\n",
       "      <th>4</th>\n",
       "      <td>@CNN</td>\n",
       "      <td>\"The Americans\" made motherhood the ultimate d...</td>\n",
       "      <td>Sun Jun 03 17:00:11 +0000 2018</td>\n",
       "      <td>-0.2500</td>\n",
       "      <td>0.000</td>\n",
       "      <td>0.833</td>\n",
       "      <td>0.167</td>\n",
       "      <td>5</td>\n",
       "    </tr>\n",
       "  </tbody>\n",
       "</table>\n",
       "</div>"
      ],
      "text/plain": [
       "  Source                                               Text  \\\n",
       "0   @CNN  Looking for lower Medicare drug costs? Ask you...   \n",
       "1   @CNN  Former US attorney Preet Bharara says Presiden...   \n",
       "2   @CNN  Canadian official Chrystia Freeland calls Pres...   \n",
       "3   @CNN  How one month reshaped the US immigration land...   \n",
       "4   @CNN  \"The Americans\" made motherhood the ultimate d...   \n",
       "\n",
       "                             Date  Compound  Positive  Neutral  Negative  \\\n",
       "0  Sun Jun 03 18:00:10 +0000 2018   -0.2960     0.000    0.864     0.136   \n",
       "1  Sun Jun 03 17:45:09 +0000 2018    0.4019     0.153    0.847     0.000   \n",
       "2  Sun Jun 03 17:30:15 +0000 2018   -0.4939     0.000    0.758     0.242   \n",
       "3  Sun Jun 03 17:15:08 +0000 2018    0.0000     0.000    1.000     0.000   \n",
       "4  Sun Jun 03 17:00:11 +0000 2018   -0.2500     0.000    0.833     0.167   \n",
       "\n",
       "  Counter  \n",
       "0       1  \n",
       "1       2  \n",
       "2       3  \n",
       "3       4  \n",
       "4       5  "
      ]
     },
     "execution_count": 22,
     "metadata": {},
     "output_type": "execute_result"
    }
   ],
   "source": [
    "all_tweet_df.head()"
   ]
  },
  {
   "cell_type": "code",
   "execution_count": 23,
   "metadata": {
    "collapsed": true
   },
   "outputs": [],
   "source": [
    "# send all_tweet_df to csv as per the instructions\n",
    "all_tweet_df.to_csv(\"SentimentDF.csv\")"
   ]
  },
  {
   "cell_type": "code",
   "execution_count": 24,
   "metadata": {
    "scrolled": true
   },
   "outputs": [
    {
     "data": {
      "text/plain": [
       "0     -0.2960\n",
       "1      0.4019\n",
       "2     -0.4939\n",
       "3      0.0000\n",
       "4     -0.2500\n",
       "100    0.0000\n",
       "101    0.0000\n",
       "102    0.0516\n",
       "103    0.4574\n",
       "104    0.4404\n",
       "200   -0.3903\n",
       "201    0.8442\n",
       "202    0.8932\n",
       "203    0.4926\n",
       "204    0.0000\n",
       "300   -0.2960\n",
       "301   -0.2960\n",
       "302   -0.3818\n",
       "303    0.0000\n",
       "304    0.2263\n",
       "400    0.4404\n",
       "401    0.0000\n",
       "402    0.2023\n",
       "403   -0.8020\n",
       "404   -0.5106\n",
       "Name: Compound, dtype: float64"
      ]
     },
     "execution_count": 24,
     "metadata": {},
     "output_type": "execute_result"
    }
   ],
   "source": [
    "df = all_tweet_df.groupby(['Source'])['Compound']\n",
    "df.head()"
   ]
  },
  {
   "cell_type": "code",
   "execution_count": 25,
   "metadata": {},
   "outputs": [
    {
     "data": {
      "image/png": "[encoded data removed]",
      "text/plain": [
       "<matplotlib.figure.Figure at 0x2df71357c50>"
      ]
     },
     "metadata": {},
     "output_type": "display_data"
    }
   ],
   "source": [
    "ax = sns.lmplot(\"Counter\", \"Compound\", data=all_tweet_df, hue='Source', fit_reg=False, size=8,aspect=1.3, legend_out=True)\n",
    "plt.gca().invert_xaxis()\n",
    "now = datetime.now()\n",
    "now = now.strftime(\"%m/%d/%Y\")\n",
    "plt.title(f\"Sentiment Analysis of Media Tweets ({now})\")\n",
    "plt.xlabel(\"Tweets Ago\")\n",
    "plt.ylabel(\"Tweet Polarity\")\n",
    "plt.ylim(1,-1)\n",
    "plt.savefig(\"SentAnalysisTweets.png\")\n",
    "plt.show()\n"
   ]
  },
  {
   "cell_type": "code",
   "execution_count": 26,
   "metadata": {},
   "outputs": [
    {
     "data": {
      "image/png": "[encoded data removed]",
      "text/plain": [
       "<matplotlib.figure.Figure at 0x2df7132d6d8>"
      ]
     },
     "metadata": {},
     "output_type": "display_data"
    }
   ],
   "source": [
    "colors = ['blue', 'red', 'green', 'black', 'yellow']\n",
    "plt.bar(summary_df['Source'], summary_df['Compound'], color=colors)\n",
    "plt.title(\"Compound Media Score\")\n",
    "plt.xlabel(\"Source\")\n",
    "plt.ylabel(\"Score\")\n",
    "plt.savefig(\"Compound Media Score.png\")\n",
    "plt.show()"
   ]
  },
  {
   "cell_type": "code",
   "execution_count": null,
   "metadata": {
    "collapsed": true
   },
   "outputs": [],
   "source": []
  },
  {
   "cell_type": "code",
   "execution_count": null,
   "metadata": {
    "collapsed": true
   },
   "outputs": [],
   "source": []
  }
 ],
 "metadata": {
  "kernelspec": {
   "display_name": "Python 3",
   "language": "python",
   "name": "python3"
  },
  "language_info": {
   "codemirror_mode": {
    "name": "ipython",
    "version": 3
   },
   "file_extension": ".py",
   "mimetype": "text/x-python",
   "name": "python",
   "nbconvert_exporter": "python",
   "pygments_lexer": "ipython3",
   "version": "3.6.3"
  }
 },
 "nbformat": 4,
 "nbformat_minor": 2
}
