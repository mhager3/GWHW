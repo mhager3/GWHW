{
 "cells": [
  {
   "cell_type": "code",
   "execution_count": 32,
   "metadata": {
    "collapsed": true
   },
   "outputs": [],
   "source": [
    "# Three observable trends from the below data:\n",
    "#     1) There are more rides in the urban city type\n",
    "#     2) The fares are generally more expensive in the rural city type\n",
    "#     3) As a company, it is best to work in the urban city type.  However, it is less profitable per ride, and \n",
    "#        potentially not as profitable for individual drivers due to significantly more drivers."
   ]
  },
  {
   "cell_type": "code",
   "execution_count": 33,
   "metadata": {
    "collapsed": true
   },
   "outputs": [],
   "source": [
    "# dependencies\n",
    "#%matplotlib notebook\n",
    "import matplotlib.pyplot as plt\n",
    "import numpy as np\n",
    "import pandas as pd\n",
    "import seaborn as sns"
   ]
  },
  {
   "cell_type": "code",
   "execution_count": 35,
   "metadata": {},
   "outputs": [
    {
     "data": {
      "text/html": [
       "<div>\n",
       "<style>\n",
       "    .dataframe thead tr:only-child th {\n",
       "        text-align: right;\n",
       "    }\n",
       "\n",
       "    .dataframe thead th {\n",
       "        text-align: left;\n",
       "    }\n",
       "\n",
       "    .dataframe tbody tr th {\n",
       "        vertical-align: top;\n",
       "    }\n",
       "</style>\n",
       "<table border=\"1\" class=\"dataframe\">\n",
       "  <thead>\n",
       "    <tr style=\"text-align: right;\">\n",
       "      <th></th>\n",
       "      <th>city</th>\n",
       "      <th>driver_count</th>\n",
       "      <th>type</th>\n",
       "    </tr>\n",
       "  </thead>\n",
       "  <tbody>\n",
       "    <tr>\n",
       "      <th>0</th>\n",
       "      <td>Kelseyland</td>\n",
       "      <td>63</td>\n",
       "      <td>Urban</td>\n",
       "    </tr>\n",
       "    <tr>\n",
       "      <th>1</th>\n",
       "      <td>Nguyenbury</td>\n",
       "      <td>8</td>\n",
       "      <td>Urban</td>\n",
       "    </tr>\n",
       "    <tr>\n",
       "      <th>2</th>\n",
       "      <td>East Douglas</td>\n",
       "      <td>12</td>\n",
       "      <td>Urban</td>\n",
       "    </tr>\n",
       "    <tr>\n",
       "      <th>3</th>\n",
       "      <td>West Dawnfurt</td>\n",
       "      <td>34</td>\n",
       "      <td>Urban</td>\n",
       "    </tr>\n",
       "    <tr>\n",
       "      <th>4</th>\n",
       "      <td>Rodriguezburgh</td>\n",
       "      <td>52</td>\n",
       "      <td>Urban</td>\n",
       "    </tr>\n",
       "    <tr>\n",
       "      <th>5</th>\n",
       "      <td>South Josephville</td>\n",
       "      <td>4</td>\n",
       "      <td>Urban</td>\n",
       "    </tr>\n",
       "    <tr>\n",
       "      <th>6</th>\n",
       "      <td>West Sydneyhaven</td>\n",
       "      <td>70</td>\n",
       "      <td>Urban</td>\n",
       "    </tr>\n",
       "    <tr>\n",
       "      <th>7</th>\n",
       "      <td>Travisville</td>\n",
       "      <td>37</td>\n",
       "      <td>Urban</td>\n",
       "    </tr>\n",
       "    <tr>\n",
       "      <th>8</th>\n",
       "      <td>Torresshire</td>\n",
       "      <td>70</td>\n",
       "      <td>Urban</td>\n",
       "    </tr>\n",
       "    <tr>\n",
       "      <th>9</th>\n",
       "      <td>Lisaville</td>\n",
       "      <td>66</td>\n",
       "      <td>Urban</td>\n",
       "    </tr>\n",
       "  </tbody>\n",
       "</table>\n",
       "</div>"
      ],
      "text/plain": [
       "                city  driver_count   type\n",
       "0         Kelseyland            63  Urban\n",
       "1         Nguyenbury             8  Urban\n",
       "2       East Douglas            12  Urban\n",
       "3      West Dawnfurt            34  Urban\n",
       "4     Rodriguezburgh            52  Urban\n",
       "5  South Josephville             4  Urban\n",
       "6   West Sydneyhaven            70  Urban\n",
       "7        Travisville            37  Urban\n",
       "8        Torresshire            70  Urban\n",
       "9          Lisaville            66  Urban"
      ]
     },
     "execution_count": 35,
     "metadata": {},
     "output_type": "execute_result"
    }
   ],
   "source": [
    "filepathCity_Data = '../resources/city_data.csv'\n",
    "filepathRide_Data = \"../resources/ride_data.csv\"\n",
    "\n",
    "cityData_df = pd.read_csv(filepathCity_Data)\n",
    "rideData_df = pd.read_csv(filepathRide_Data)\n",
    "cityData_df.head(10)"
   ]
  },
  {
   "cell_type": "code",
   "execution_count": 36,
   "metadata": {},
   "outputs": [
    {
     "data": {
      "text/html": [
       "<div>\n",
       "<style>\n",
       "    .dataframe thead tr:only-child th {\n",
       "        text-align: right;\n",
       "    }\n",
       "\n",
       "    .dataframe thead th {\n",
       "        text-align: left;\n",
       "    }\n",
       "\n",
       "    .dataframe tbody tr th {\n",
       "        vertical-align: top;\n",
       "    }\n",
       "</style>\n",
       "<table border=\"1\" class=\"dataframe\">\n",
       "  <thead>\n",
       "    <tr style=\"text-align: right;\">\n",
       "      <th></th>\n",
       "      <th>city</th>\n",
       "      <th>date</th>\n",
       "      <th>fare</th>\n",
       "      <th>ride_id</th>\n",
       "    </tr>\n",
       "  </thead>\n",
       "  <tbody>\n",
       "    <tr>\n",
       "      <th>0</th>\n",
       "      <td>Sarabury</td>\n",
       "      <td>2016-01-16 13:49:27</td>\n",
       "      <td>38.35</td>\n",
       "      <td>5403689035038</td>\n",
       "    </tr>\n",
       "    <tr>\n",
       "      <th>1</th>\n",
       "      <td>South Roy</td>\n",
       "      <td>2016-01-02 18:42:34</td>\n",
       "      <td>17.49</td>\n",
       "      <td>4036272335942</td>\n",
       "    </tr>\n",
       "    <tr>\n",
       "      <th>2</th>\n",
       "      <td>Wiseborough</td>\n",
       "      <td>2016-01-21 17:35:29</td>\n",
       "      <td>44.18</td>\n",
       "      <td>3645042422587</td>\n",
       "    </tr>\n",
       "    <tr>\n",
       "      <th>3</th>\n",
       "      <td>Spencertown</td>\n",
       "      <td>2016-07-31 14:53:22</td>\n",
       "      <td>6.87</td>\n",
       "      <td>2242596575892</td>\n",
       "    </tr>\n",
       "    <tr>\n",
       "      <th>4</th>\n",
       "      <td>Nguyenbury</td>\n",
       "      <td>2016-07-09 04:42:44</td>\n",
       "      <td>6.28</td>\n",
       "      <td>1543057793673</td>\n",
       "    </tr>\n",
       "  </tbody>\n",
       "</table>\n",
       "</div>"
      ],
      "text/plain": [
       "          city                 date   fare        ride_id\n",
       "0     Sarabury  2016-01-16 13:49:27  38.35  5403689035038\n",
       "1    South Roy  2016-01-02 18:42:34  17.49  4036272335942\n",
       "2  Wiseborough  2016-01-21 17:35:29  44.18  3645042422587\n",
       "3  Spencertown  2016-07-31 14:53:22   6.87  2242596575892\n",
       "4   Nguyenbury  2016-07-09 04:42:44   6.28  1543057793673"
      ]
     },
     "execution_count": 36,
     "metadata": {},
     "output_type": "execute_result"
    }
   ],
   "source": [
    "rideData_df.head()"
   ]
  },
  {
   "cell_type": "code",
   "execution_count": null,
   "metadata": {
    "collapsed": true
   },
   "outputs": [],
   "source": []
  },
  {
   "cell_type": "code",
   "execution_count": 37,
   "metadata": {},
   "outputs": [
    {
     "data": {
      "text/html": [
       "<div>\n",
       "<style>\n",
       "    .dataframe thead tr:only-child th {\n",
       "        text-align: right;\n",
       "    }\n",
       "\n",
       "    .dataframe thead th {\n",
       "        text-align: left;\n",
       "    }\n",
       "\n",
       "    .dataframe tbody tr th {\n",
       "        vertical-align: top;\n",
       "    }\n",
       "</style>\n",
       "<table border=\"1\" class=\"dataframe\">\n",
       "  <thead>\n",
       "    <tr style=\"text-align: right;\">\n",
       "      <th></th>\n",
       "      <th>city</th>\n",
       "      <th>type</th>\n",
       "    </tr>\n",
       "  </thead>\n",
       "  <tbody>\n",
       "    <tr>\n",
       "      <th>65</th>\n",
       "      <td>Alvarezhaven</td>\n",
       "      <td>Urban</td>\n",
       "    </tr>\n",
       "    <tr>\n",
       "      <th>18</th>\n",
       "      <td>Alyssaberg</td>\n",
       "      <td>Urban</td>\n",
       "    </tr>\n",
       "    <tr>\n",
       "      <th>94</th>\n",
       "      <td>Anitamouth</td>\n",
       "      <td>Suburban</td>\n",
       "    </tr>\n",
       "    <tr>\n",
       "      <th>53</th>\n",
       "      <td>Antoniomouth</td>\n",
       "      <td>Urban</td>\n",
       "    </tr>\n",
       "    <tr>\n",
       "      <th>43</th>\n",
       "      <td>Aprilchester</td>\n",
       "      <td>Urban</td>\n",
       "    </tr>\n",
       "  </tbody>\n",
       "</table>\n",
       "</div>"
      ],
      "text/plain": [
       "            city      type\n",
       "65  Alvarezhaven     Urban\n",
       "18    Alyssaberg     Urban\n",
       "94    Anitamouth  Suburban\n",
       "53  Antoniomouth     Urban\n",
       "43  Aprilchester     Urban"
      ]
     },
     "execution_count": 37,
     "metadata": {},
     "output_type": "execute_result"
    }
   ],
   "source": [
    "# set variables for merging\n",
    "avg_fare_city = rideData_df.groupby([\"city\"]).mean()[\"fare\"].round(2)\n",
    "tot_num_rides_city = rideData_df.groupby(['city']).count()[\"fare\"]\n",
    "tot_num_drivers_city = cityData_df.groupby(['city']).sum()['driver_count']\n",
    "city_type_df = cityData_df[['city', 'type']]\n",
    "#city_type = city_type.set_index('city')\n",
    "city_type_df.sort_values('city', ascending=True).head()\n",
    "#type(city_type)"
   ]
  },
  {
   "cell_type": "code",
   "execution_count": 38,
   "metadata": {},
   "outputs": [
    {
     "data": {
      "text/html": [
       "<div>\n",
       "<style>\n",
       "    .dataframe thead tr:only-child th {\n",
       "        text-align: right;\n",
       "    }\n",
       "\n",
       "    .dataframe thead th {\n",
       "        text-align: left;\n",
       "    }\n",
       "\n",
       "    .dataframe tbody tr th {\n",
       "        vertical-align: top;\n",
       "    }\n",
       "</style>\n",
       "<table border=\"1\" class=\"dataframe\">\n",
       "  <thead>\n",
       "    <tr style=\"text-align: right;\">\n",
       "      <th></th>\n",
       "      <th>city</th>\n",
       "      <th>driver_count</th>\n",
       "      <th>type</th>\n",
       "    </tr>\n",
       "  </thead>\n",
       "  <tbody>\n",
       "    <tr>\n",
       "      <th>84</th>\n",
       "      <td>Port James</td>\n",
       "      <td>15</td>\n",
       "      <td>Suburban</td>\n",
       "    </tr>\n",
       "    <tr>\n",
       "      <th>100</th>\n",
       "      <td>Port James</td>\n",
       "      <td>3</td>\n",
       "      <td>Suburban</td>\n",
       "    </tr>\n",
       "  </tbody>\n",
       "</table>\n",
       "</div>"
      ],
      "text/plain": [
       "           city  driver_count      type\n",
       "84   Port James            15  Suburban\n",
       "100  Port James             3  Suburban"
      ]
     },
     "execution_count": 38,
     "metadata": {},
     "output_type": "execute_result"
    }
   ],
   "source": [
    "# finds duplicate city rows\n",
    "pd.concat(g for _, g in cityData_df.groupby(\"city\") if len(g) > 1)\n"
   ]
  },
  {
   "cell_type": "code",
   "execution_count": 40,
   "metadata": {},
   "outputs": [
    {
     "data": {
      "text/html": [
       "<div>\n",
       "<style>\n",
       "    .dataframe thead tr:only-child th {\n",
       "        text-align: right;\n",
       "    }\n",
       "\n",
       "    .dataframe thead th {\n",
       "        text-align: left;\n",
       "    }\n",
       "\n",
       "    .dataframe tbody tr th {\n",
       "        vertical-align: top;\n",
       "    }\n",
       "</style>\n",
       "<table border=\"1\" class=\"dataframe\">\n",
       "  <thead>\n",
       "    <tr style=\"text-align: right;\">\n",
       "      <th></th>\n",
       "      <th>city</th>\n",
       "      <th>type</th>\n",
       "      <th>driver_count</th>\n",
       "    </tr>\n",
       "  </thead>\n",
       "  <tbody>\n",
       "    <tr>\n",
       "      <th>72</th>\n",
       "      <td>Port James</td>\n",
       "      <td>Suburban</td>\n",
       "      <td>18</td>\n",
       "    </tr>\n",
       "  </tbody>\n",
       "</table>\n",
       "</div>"
      ],
      "text/plain": [
       "          city      type  driver_count\n",
       "72  Port James  Suburban            18"
      ]
     },
     "execution_count": 40,
     "metadata": {},
     "output_type": "execute_result"
    }
   ],
   "source": [
    "# adds the two rows together \n",
    "cityData_df = cityData_df.groupby(['city', 'type'])['driver_count'].sum().reset_index()\n",
    "\n",
    "# verifies rows were combined as expected\n",
    "cityData_df.loc[cityData_df['city'] == \"Port James\"]"
   ]
  },
  {
   "cell_type": "code",
   "execution_count": 41,
   "metadata": {},
   "outputs": [],
   "source": [
    "# convert series into dataframes\n",
    "avg_fare_city_df = pd.DataFrame(avg_fare_city)\n",
    "tot_num_rides_city_df = pd.DataFrame(tot_num_rides_city)\n"
   ]
  },
  {
   "cell_type": "code",
   "execution_count": 42,
   "metadata": {},
   "outputs": [
    {
     "data": {
      "text/html": [
       "<div>\n",
       "<style>\n",
       "    .dataframe thead tr:only-child th {\n",
       "        text-align: right;\n",
       "    }\n",
       "\n",
       "    .dataframe thead th {\n",
       "        text-align: left;\n",
       "    }\n",
       "\n",
       "    .dataframe tbody tr th {\n",
       "        vertical-align: top;\n",
       "    }\n",
       "</style>\n",
       "<table border=\"1\" class=\"dataframe\">\n",
       "  <thead>\n",
       "    <tr style=\"text-align: right;\">\n",
       "      <th></th>\n",
       "      <th>City Type</th>\n",
       "      <th>Total Driver Count</th>\n",
       "      <th>Average Fare</th>\n",
       "      <th>Total Number of Rides</th>\n",
       "    </tr>\n",
       "    <tr>\n",
       "      <th>City</th>\n",
       "      <th></th>\n",
       "      <th></th>\n",
       "      <th></th>\n",
       "      <th></th>\n",
       "    </tr>\n",
       "  </thead>\n",
       "  <tbody>\n",
       "    <tr>\n",
       "      <th>Alvarezhaven</th>\n",
       "      <td>Urban</td>\n",
       "      <td>21</td>\n",
       "      <td>23.93</td>\n",
       "      <td>31</td>\n",
       "    </tr>\n",
       "    <tr>\n",
       "      <th>Alyssaberg</th>\n",
       "      <td>Urban</td>\n",
       "      <td>67</td>\n",
       "      <td>20.61</td>\n",
       "      <td>26</td>\n",
       "    </tr>\n",
       "    <tr>\n",
       "      <th>Anitamouth</th>\n",
       "      <td>Suburban</td>\n",
       "      <td>16</td>\n",
       "      <td>37.32</td>\n",
       "      <td>9</td>\n",
       "    </tr>\n",
       "    <tr>\n",
       "      <th>Antoniomouth</th>\n",
       "      <td>Urban</td>\n",
       "      <td>21</td>\n",
       "      <td>23.62</td>\n",
       "      <td>22</td>\n",
       "    </tr>\n",
       "    <tr>\n",
       "      <th>Aprilchester</th>\n",
       "      <td>Urban</td>\n",
       "      <td>49</td>\n",
       "      <td>21.98</td>\n",
       "      <td>19</td>\n",
       "    </tr>\n",
       "  </tbody>\n",
       "</table>\n",
       "</div>"
      ],
      "text/plain": [
       "             City Type  Total Driver Count  Average Fare  \\\n",
       "City                                                       \n",
       "Alvarezhaven     Urban                  21         23.93   \n",
       "Alyssaberg       Urban                  67         20.61   \n",
       "Anitamouth    Suburban                  16         37.32   \n",
       "Antoniomouth     Urban                  21         23.62   \n",
       "Aprilchester     Urban                  49         21.98   \n",
       "\n",
       "              Total Number of Rides  \n",
       "City                                 \n",
       "Alvarezhaven                     31  \n",
       "Alyssaberg                       26  \n",
       "Anitamouth                        9  \n",
       "Antoniomouth                     22  \n",
       "Aprilchester                     19  "
      ]
     },
     "execution_count": 42,
     "metadata": {},
     "output_type": "execute_result"
    }
   ],
   "source": [
    "# merge city data with avg fare per city, and clean\n",
    "cityData_merged = pd.merge(avg_fare_city_df,cityData_df, left_index = True, right_on='city', how='outer')\n",
    "cityData_merged = cityData_merged.rename(index=str, columns={\"fare\": \"Average Fare\", \n",
    "                                                             \"type\":\"City Type\", \n",
    "                                                             \"driver_count\": \"Total Driver Count\", \n",
    "                                                             \"city\": \"City\"})\n",
    "\n",
    "# merge clean city data with total number of rides per city, and clean\n",
    "cityData_merged = pd.merge(tot_num_rides_city_df,cityData_merged, left_index = True, right_on='City', how='outer')\n",
    "cityData_merged = cityData_merged.rename(index=str, columns={\"fare\": \"Total Number of Rides\", \n",
    "                                                             \"type\":\"City Type\", \n",
    "                                                             \"driver_count\": \"Total Driver Count\", \n",
    "                                                             \"city\": \"City\"})\n",
    "\n",
    "# organizing\n",
    "cityData_merged = cityData_merged[[\"City\", \"City Type\", \"Total Driver Count\", \n",
    "                                   \"Average Fare\", \"Total Number of Rides\"]]\n",
    "\n",
    "# set the city as the index\n",
    "cityData_merged = cityData_merged.set_index('City')\n",
    "\n",
    "# display merged table\n",
    "cityData_merged.head()\n",
    "\n"
   ]
  },
  {
   "cell_type": "code",
   "execution_count": 43,
   "metadata": {
    "scrolled": true
   },
   "outputs": [
    {
     "data": {
      "image/png": "[encoded data removed]",
      "text/plain": [
       "<matplotlib.figure.Figure at 0x2c1dc916780>"
      ]
     },
     "metadata": {},
     "output_type": "display_data"
    }
   ],
   "source": [
    "sns.set()\n",
    "\n",
    "# urban scatter\n",
    "urbanData = cityData_merged.loc[cityData_merged['City Type'] == \"Urban\"]\n",
    "plt.scatter(urbanData['Total Number of Rides'], \n",
    "            urbanData['Average Fare'], \n",
    "            s=urbanData['Total Driver Count']*10, \n",
    "            color='lightcoral', \n",
    "            edgecolor = 'black',\n",
    "            alpha=.75,\n",
    "            label=\"Urban\");\n",
    "\n",
    "# suburban scatter\n",
    "suburbanData = cityData_merged.loc[cityData_merged['City Type'] == \"Suburban\"]\n",
    "plt.scatter(suburbanData['Total Number of Rides'], \n",
    "            suburbanData['Average Fare'], \n",
    "            s=suburbanData['Total Driver Count']*10, \n",
    "            color='lightskyblue', \n",
    "            edgecolor = 'black',\n",
    "            alpha=.75,\n",
    "            label=\"Suburban\");\n",
    "\n",
    "# rural scatter\n",
    "ruralData = cityData_merged.loc[cityData_merged['City Type'] == \"Rural\"]\n",
    "plt.scatter(ruralData['Total Number of Rides'], \n",
    "            ruralData['Average Fare'], \n",
    "            s=ruralData['Total Driver Count']*10, \n",
    "            color='gold', \n",
    "            edgecolor = 'black',\n",
    "            alpha=.75,\n",
    "            label=\"Rural\");\n",
    "\n",
    "plt.title(\"Pyber: Ride Sharing Data (2016)\")\n",
    "plt.xlabel('Total Number of Rides')\n",
    "plt.ylabel('Average Fare')\n",
    "#plt.legend(loc= \"upper right\")\n",
    "lgnd = plt.legend(loc=\"upper right\", fontsize=10)\n",
    "lgnd.legendHandles[0]._sizes = [30]\n",
    "lgnd.legendHandles[1]._sizes = [30]\n",
    "lgnd.legendHandles[2]._sizes = [30]\n",
    "\n",
    "plt.show()\n"
   ]
  },
  {
   "cell_type": "code",
   "execution_count": 44,
   "metadata": {
    "scrolled": true
   },
   "outputs": [
    {
     "data": {
      "text/html": [
       "<div>\n",
       "<style>\n",
       "    .dataframe thead tr:only-child th {\n",
       "        text-align: right;\n",
       "    }\n",
       "\n",
       "    .dataframe thead th {\n",
       "        text-align: left;\n",
       "    }\n",
       "\n",
       "    .dataframe tbody tr th {\n",
       "        vertical-align: top;\n",
       "    }\n",
       "</style>\n",
       "<table border=\"1\" class=\"dataframe\">\n",
       "  <thead>\n",
       "    <tr style=\"text-align: right;\">\n",
       "      <th></th>\n",
       "      <th>City Type</th>\n",
       "      <th>Total Driver Count</th>\n",
       "      <th>Average Fare</th>\n",
       "      <th>Total Number of Rides</th>\n",
       "    </tr>\n",
       "    <tr>\n",
       "      <th>City</th>\n",
       "      <th></th>\n",
       "      <th></th>\n",
       "      <th></th>\n",
       "      <th></th>\n",
       "    </tr>\n",
       "  </thead>\n",
       "  <tbody>\n",
       "    <tr>\n",
       "      <th>Alvarezhaven</th>\n",
       "      <td>Urban</td>\n",
       "      <td>21</td>\n",
       "      <td>23.93</td>\n",
       "      <td>31</td>\n",
       "    </tr>\n",
       "    <tr>\n",
       "      <th>Alyssaberg</th>\n",
       "      <td>Urban</td>\n",
       "      <td>67</td>\n",
       "      <td>20.61</td>\n",
       "      <td>26</td>\n",
       "    </tr>\n",
       "    <tr>\n",
       "      <th>Anitamouth</th>\n",
       "      <td>Suburban</td>\n",
       "      <td>16</td>\n",
       "      <td>37.32</td>\n",
       "      <td>9</td>\n",
       "    </tr>\n",
       "    <tr>\n",
       "      <th>Antoniomouth</th>\n",
       "      <td>Urban</td>\n",
       "      <td>21</td>\n",
       "      <td>23.62</td>\n",
       "      <td>22</td>\n",
       "    </tr>\n",
       "    <tr>\n",
       "      <th>Aprilchester</th>\n",
       "      <td>Urban</td>\n",
       "      <td>49</td>\n",
       "      <td>21.98</td>\n",
       "      <td>19</td>\n",
       "    </tr>\n",
       "  </tbody>\n",
       "</table>\n",
       "</div>"
      ],
      "text/plain": [
       "             City Type  Total Driver Count  Average Fare  \\\n",
       "City                                                       \n",
       "Alvarezhaven     Urban                  21         23.93   \n",
       "Alyssaberg       Urban                  67         20.61   \n",
       "Anitamouth    Suburban                  16         37.32   \n",
       "Antoniomouth     Urban                  21         23.62   \n",
       "Aprilchester     Urban                  49         21.98   \n",
       "\n",
       "              Total Number of Rides  \n",
       "City                                 \n",
       "Alvarezhaven                     31  \n",
       "Alyssaberg                       26  \n",
       "Anitamouth                        9  \n",
       "Antoniomouth                     22  \n",
       "Aprilchester                     19  "
      ]
     },
     "execution_count": 44,
     "metadata": {},
     "output_type": "execute_result"
    }
   ],
   "source": [
    "cityData_merged.head()"
   ]
  },
  {
   "cell_type": "code",
   "execution_count": 45,
   "metadata": {},
   "outputs": [
    {
     "data": {
      "text/html": [
       "<div>\n",
       "<style>\n",
       "    .dataframe thead tr:only-child th {\n",
       "        text-align: right;\n",
       "    }\n",
       "\n",
       "    .dataframe thead th {\n",
       "        text-align: left;\n",
       "    }\n",
       "\n",
       "    .dataframe tbody tr th {\n",
       "        vertical-align: top;\n",
       "    }\n",
       "</style>\n",
       "<table border=\"1\" class=\"dataframe\">\n",
       "  <thead>\n",
       "    <tr style=\"text-align: right;\">\n",
       "      <th></th>\n",
       "      <th>Total Fares</th>\n",
       "      <th>City Type</th>\n",
       "      <th>Total Driver Count</th>\n",
       "      <th>Average Fare</th>\n",
       "      <th>Total Number of Rides</th>\n",
       "    </tr>\n",
       "    <tr>\n",
       "      <th>city</th>\n",
       "      <th></th>\n",
       "      <th></th>\n",
       "      <th></th>\n",
       "      <th></th>\n",
       "      <th></th>\n",
       "    </tr>\n",
       "  </thead>\n",
       "  <tbody>\n",
       "    <tr>\n",
       "      <th>Alvarezhaven</th>\n",
       "      <td>741.79</td>\n",
       "      <td>Urban</td>\n",
       "      <td>21</td>\n",
       "      <td>23.93</td>\n",
       "      <td>31</td>\n",
       "    </tr>\n",
       "    <tr>\n",
       "      <th>Alyssaberg</th>\n",
       "      <td>535.85</td>\n",
       "      <td>Urban</td>\n",
       "      <td>67</td>\n",
       "      <td>20.61</td>\n",
       "      <td>26</td>\n",
       "    </tr>\n",
       "    <tr>\n",
       "      <th>Anitamouth</th>\n",
       "      <td>335.84</td>\n",
       "      <td>Suburban</td>\n",
       "      <td>16</td>\n",
       "      <td>37.32</td>\n",
       "      <td>9</td>\n",
       "    </tr>\n",
       "    <tr>\n",
       "      <th>Antoniomouth</th>\n",
       "      <td>519.75</td>\n",
       "      <td>Urban</td>\n",
       "      <td>21</td>\n",
       "      <td>23.62</td>\n",
       "      <td>22</td>\n",
       "    </tr>\n",
       "    <tr>\n",
       "      <th>Aprilchester</th>\n",
       "      <td>417.65</td>\n",
       "      <td>Urban</td>\n",
       "      <td>49</td>\n",
       "      <td>21.98</td>\n",
       "      <td>19</td>\n",
       "    </tr>\n",
       "  </tbody>\n",
       "</table>\n",
       "</div>"
      ],
      "text/plain": [
       "              Total Fares City Type  Total Driver Count  Average Fare  \\\n",
       "city                                                                    \n",
       "Alvarezhaven       741.79     Urban                  21         23.93   \n",
       "Alyssaberg         535.85     Urban                  67         20.61   \n",
       "Anitamouth         335.84  Suburban                  16         37.32   \n",
       "Antoniomouth       519.75     Urban                  21         23.62   \n",
       "Aprilchester       417.65     Urban                  49         21.98   \n",
       "\n",
       "              Total Number of Rides  \n",
       "city                                 \n",
       "Alvarezhaven                     31  \n",
       "Alyssaberg                       26  \n",
       "Anitamouth                        9  \n",
       "Antoniomouth                     22  \n",
       "Aprilchester                     19  "
      ]
     },
     "execution_count": 45,
     "metadata": {},
     "output_type": "execute_result"
    }
   ],
   "source": [
    "# total fares by city\n",
    "totFares_city = rideData_df.groupby(['city']).sum()['fare']\n",
    "totFares_city_df = pd.DataFrame(totFares_city)\n",
    "\n",
    "# merge with city type\n",
    "cityData_merged = pd.merge(totFares_city_df,cityData_merged, left_index = True, right_index= True, how='outer')\n",
    "cityData_merged = cityData_merged.rename(index=str, columns={\"fare\": \"Total Fares\"})\n",
    "cityData_merged.head()\n",
    "\n",
    "#totFares_city"
   ]
  },
  {
   "cell_type": "code",
   "execution_count": 46,
   "metadata": {},
   "outputs": [],
   "source": [
    "#total fares by city type\n",
    "labels = ['Urban', 'Suburban', 'Rural']\n",
    "#totalFares = rideData_df.groupby([\"type\"]).sum()[\"fare\"]\n",
    "#totalFares\n"
   ]
  },
  {
   "cell_type": "code",
   "execution_count": 47,
   "metadata": {},
   "outputs": [
    {
     "data": {
      "text/html": [
       "<div>\n",
       "<style>\n",
       "    .dataframe thead tr:only-child th {\n",
       "        text-align: right;\n",
       "    }\n",
       "\n",
       "    .dataframe thead th {\n",
       "        text-align: left;\n",
       "    }\n",
       "\n",
       "    .dataframe tbody tr th {\n",
       "        vertical-align: top;\n",
       "    }\n",
       "</style>\n",
       "<table border=\"1\" class=\"dataframe\">\n",
       "  <thead>\n",
       "    <tr style=\"text-align: right;\">\n",
       "      <th></th>\n",
       "      <th>Total Fares</th>\n",
       "    </tr>\n",
       "    <tr>\n",
       "      <th>City Type</th>\n",
       "      <th></th>\n",
       "    </tr>\n",
       "  </thead>\n",
       "  <tbody>\n",
       "    <tr>\n",
       "      <th>Rural</th>\n",
       "      <td>4255.09</td>\n",
       "    </tr>\n",
       "    <tr>\n",
       "      <th>Suburban</th>\n",
       "      <td>19317.88</td>\n",
       "    </tr>\n",
       "    <tr>\n",
       "      <th>Urban</th>\n",
       "      <td>40078.34</td>\n",
       "    </tr>\n",
       "  </tbody>\n",
       "</table>\n",
       "</div>"
      ],
      "text/plain": [
       "           Total Fares\n",
       "City Type             \n",
       "Rural          4255.09\n",
       "Suburban      19317.88\n",
       "Urban         40078.34"
      ]
     },
     "execution_count": 47,
     "metadata": {},
     "output_type": "execute_result"
    }
   ],
   "source": [
    "pctFaresType = pd.DataFrame(cityData_merged.groupby(['City Type']).sum()['Total Fares'])\n",
    "pctFaresType"
   ]
  },
  {
   "cell_type": "code",
   "execution_count": 48,
   "metadata": {},
   "outputs": [
    {
     "data": {
      "text/plain": [
       "pandas.core.frame.DataFrame"
      ]
     },
     "execution_count": 48,
     "metadata": {},
     "output_type": "execute_result"
    }
   ],
   "source": [
    "type(pctFaresType)"
   ]
  },
  {
   "cell_type": "code",
   "execution_count": 49,
   "metadata": {},
   "outputs": [
    {
     "data": {
      "text/plain": [
       "Index(['Rural', 'Suburban', 'Urban'], dtype='object', name='City Type')"
      ]
     },
     "execution_count": 49,
     "metadata": {},
     "output_type": "execute_result"
    }
   ],
   "source": [
    "pctFaresType.index"
   ]
  },
  {
   "cell_type": "code",
   "execution_count": 29,
   "metadata": {},
   "outputs": [
    {
     "data": {
      "image/png": "[encoded data removed]",
      "text/plain": [
       "<matplotlib.figure.Figure at 0x2c1dc77f470>"
      ]
     },
     "metadata": {},
     "output_type": "display_data"
    }
   ],
   "source": [
    "colors = [\"gold\", \"lightskyblue\", \"lightcoral\"]\n",
    "\n",
    "explode = [0,0,0.1]\n",
    "\n",
    "plt.pie(pctFaresType, labels=pctFaresType.index, autopct = \"%1.2f%%\", colors = colors, explode = explode, \n",
    "        shadow = True, startangle = 90)\n",
    "\n",
    "plt.axis('equal')\n",
    "plt.title(\"% of Total Fares by City Type\")\n",
    "\n",
    "plt.show()"
   ]
  },
  {
   "cell_type": "code",
   "execution_count": 20,
   "metadata": {},
   "outputs": [
    {
     "data": {
      "text/html": [
       "<div>\n",
       "<style>\n",
       "    .dataframe thead tr:only-child th {\n",
       "        text-align: right;\n",
       "    }\n",
       "\n",
       "    .dataframe thead th {\n",
       "        text-align: left;\n",
       "    }\n",
       "\n",
       "    .dataframe tbody tr th {\n",
       "        vertical-align: top;\n",
       "    }\n",
       "</style>\n",
       "<table border=\"1\" class=\"dataframe\">\n",
       "  <thead>\n",
       "    <tr style=\"text-align: right;\">\n",
       "      <th></th>\n",
       "      <th>Total Number of Rides</th>\n",
       "    </tr>\n",
       "    <tr>\n",
       "      <th>City Type</th>\n",
       "      <th></th>\n",
       "    </tr>\n",
       "  </thead>\n",
       "  <tbody>\n",
       "    <tr>\n",
       "      <th>Rural</th>\n",
       "      <td>125</td>\n",
       "    </tr>\n",
       "    <tr>\n",
       "      <th>Suburban</th>\n",
       "      <td>625</td>\n",
       "    </tr>\n",
       "    <tr>\n",
       "      <th>Urban</th>\n",
       "      <td>1625</td>\n",
       "    </tr>\n",
       "  </tbody>\n",
       "</table>\n",
       "</div>"
      ],
      "text/plain": [
       "           Total Number of Rides\n",
       "City Type                       \n",
       "Rural                        125\n",
       "Suburban                     625\n",
       "Urban                       1625"
      ]
     },
     "execution_count": 20,
     "metadata": {},
     "output_type": "execute_result"
    }
   ],
   "source": [
    "pctRidesType = pd.DataFrame(cityData_merged.groupby(['City Type']).sum()['Total Number of Rides'])\n",
    "pctRidesType"
   ]
  },
  {
   "cell_type": "code",
   "execution_count": 30,
   "metadata": {},
   "outputs": [
    {
     "data": {
      "image/png": "[encoded data removed]",
      "text/plain": [
       "<matplotlib.figure.Figure at 0x2c1dc7942e8>"
      ]
     },
     "metadata": {},
     "output_type": "display_data"
    }
   ],
   "source": [
    "plt.pie(pctRidesType, labels=pctRidesType.index, autopct = \"%1.2f%%\", colors = colors, explode = explode, \n",
    "        shadow = True, startangle = 90)\n",
    "\n",
    "plt.axis('equal')\n",
    "plt.title(\"% of Total Rides by City Type\")\n",
    "\n",
    "plt.show()"
   ]
  },
  {
   "cell_type": "code",
   "execution_count": 22,
   "metadata": {},
   "outputs": [
    {
     "data": {
      "text/html": [
       "<div>\n",
       "<style>\n",
       "    .dataframe thead tr:only-child th {\n",
       "        text-align: right;\n",
       "    }\n",
       "\n",
       "    .dataframe thead th {\n",
       "        text-align: left;\n",
       "    }\n",
       "\n",
       "    .dataframe tbody tr th {\n",
       "        vertical-align: top;\n",
       "    }\n",
       "</style>\n",
       "<table border=\"1\" class=\"dataframe\">\n",
       "  <thead>\n",
       "    <tr style=\"text-align: right;\">\n",
       "      <th></th>\n",
       "      <th>Total Driver Count</th>\n",
       "    </tr>\n",
       "    <tr>\n",
       "      <th>City Type</th>\n",
       "      <th></th>\n",
       "    </tr>\n",
       "  </thead>\n",
       "  <tbody>\n",
       "    <tr>\n",
       "      <th>Rural</th>\n",
       "      <td>104</td>\n",
       "    </tr>\n",
       "    <tr>\n",
       "      <th>Suburban</th>\n",
       "      <td>638</td>\n",
       "    </tr>\n",
       "    <tr>\n",
       "      <th>Urban</th>\n",
       "      <td>2607</td>\n",
       "    </tr>\n",
       "  </tbody>\n",
       "</table>\n",
       "</div>"
      ],
      "text/plain": [
       "           Total Driver Count\n",
       "City Type                    \n",
       "Rural                     104\n",
       "Suburban                  638\n",
       "Urban                    2607"
      ]
     },
     "execution_count": 22,
     "metadata": {},
     "output_type": "execute_result"
    }
   ],
   "source": [
    "pctDriversType = pd.DataFrame(cityData_merged.groupby(['City Type']).sum()['Total Driver Count'])\n",
    "pctDriversType"
   ]
  },
  {
   "cell_type": "code",
   "execution_count": 31,
   "metadata": {},
   "outputs": [
    {
     "data": {
      "image/png": "[encoded data removed]",
      "text/plain": [
       "<matplotlib.figure.Figure at 0x2c1dc821780>"
      ]
     },
     "metadata": {},
     "output_type": "display_data"
    }
   ],
   "source": [
    "plt.pie(pctDriversType, labels=pctDriversType.index, autopct = \"%1.2f%%\", colors = colors, explode = explode, \n",
    "        shadow = True, startangle = 90)\n",
    "\n",
    "plt.axis('equal')\n",
    "plt.title(\"% of Total Drivers by City Type\")\n",
    "\n",
    "plt.show()"
   ]
  },
  {
   "cell_type": "code",
   "execution_count": null,
   "metadata": {
    "collapsed": true
   },
   "outputs": [],
   "source": []
  }
 ],
 "metadata": {
  "kernelspec": {
   "display_name": "Python 3",
   "language": "python",
   "name": "python3"
  },
  "language_info": {
   "codemirror_mode": {
    "name": "ipython",
    "version": 3
   },
   "file_extension": ".py",
   "mimetype": "text/x-python",
   "name": "python",
   "nbconvert_exporter": "python",
   "pygments_lexer": "ipython3",
   "version": "3.6.3"
  }
 },
 "nbformat": 4,
 "nbformat_minor": 2
}
