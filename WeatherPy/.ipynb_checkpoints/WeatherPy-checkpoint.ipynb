{
 "cells": [
  {
   "cell_type": "code",
   "execution_count": 8,
   "metadata": {},
   "outputs": [],
   "source": [
    "import matplotlib.pyplot as plt\n",
    "import pandas as pd\n",
    "import openweathermapy.core as owm\n",
    "import json\n",
    "# import requests\n",
    "import numpy as np\n",
    "from config import wapi_key\n",
    "from citipy import citipy\n",
    "from pprint import pprint\n",
    "\n",
    "# Latitude : max/min +90 to -90\n",
    "# Longitude : max/min +180 to -180"
   ]
  },
  {
   "cell_type": "code",
   "execution_count": 9,
   "metadata": {},
   "outputs": [],
   "source": [
    "# setting dictionary\n",
    "settings = {\"units\": \"metric\", \"appid\": wapi_key}"
   ]
  },
  {
   "cell_type": "code",
   "execution_count": 10,
   "metadata": {},
   "outputs": [
    {
     "name": "stdout",
     "output_type": "stream",
     "text": [
      "Lat: 87.57, Long: 169.57\n"
     ]
    }
   ],
   "source": [
    "rand_lat = round(np.random.uniform(-90, 90), 2)\n",
    "rand_long = round(np.random.uniform(-180, 180), 2)\n",
    "print(f\"Lat: {rand_lat}, Long: {rand_long}\")"
   ]
  },
  {
   "cell_type": "code",
   "execution_count": 11,
   "metadata": {},
   "outputs": [
    {
     "name": "stdout",
     "output_type": "stream",
     "text": [
      "City: pevek, Humidity: 100\n"
     ]
    }
   ],
   "source": [
    "city = citipy.nearest_city(rand_lat, rand_long)\n",
    "data = owm.get_current(city.city_name, **settings)\n",
    "print(f\"City: {city.city_name}, Humidity: {data('main.humidity')}\")"
   ]
  },
  {
   "cell_type": "code",
   "execution_count": 12,
   "metadata": {},
   "outputs": [
    {
     "data": {
      "text/plain": [
       "<citipy.citipy.City at 0x1efa577e6d8>"
      ]
     },
     "execution_count": 12,
     "metadata": {},
     "output_type": "execute_result"
    }
   ],
   "source": [
    "city"
   ]
  },
  {
   "cell_type": "code",
   "execution_count": 41,
   "metadata": {},
   "outputs": [
    {
     "data": {
      "text/html": [
       "<div>\n",
       "<style scoped>\n",
       "    .dataframe tbody tr th:only-of-type {\n",
       "        vertical-align: middle;\n",
       "    }\n",
       "\n",
       "    .dataframe tbody tr th {\n",
       "        vertical-align: top;\n",
       "    }\n",
       "\n",
       "    .dataframe thead th {\n",
       "        text-align: right;\n",
       "    }\n",
       "</style>\n",
       "<table border=\"1\" class=\"dataframe\">\n",
       "  <thead>\n",
       "    <tr style=\"text-align: right;\">\n",
       "      <th></th>\n",
       "      <th>City</th>\n",
       "      <th>Country</th>\n",
       "    </tr>\n",
       "  </thead>\n",
       "  <tbody>\n",
       "  </tbody>\n",
       "</table>\n",
       "</div>"
      ],
      "text/plain": [
       "Empty DataFrame\n",
       "Columns: [City, Country]\n",
       "Index: []"
      ]
     },
     "execution_count": 41,
     "metadata": {},
     "output_type": "execute_result"
    }
   ],
   "source": [
    "city_df = pd.DataFrame()\n",
    "city_df[\"City\"] = \"\"\n",
    "city_df[\"Country\"] = \"\"\n",
    "# city_df[\"Latitude\"] = \"\"\n",
    "# city_df[\"Longitude\"] = \"\"\n",
    "# city_df[\"Temperature\"] = \"\"\n",
    "# city_df[\"Humidity\"] = \"\"\n",
    "# city_df[\"Cloudiness\"] = \"\"\n",
    "# city_df[\"Wind Speed\"] = \"\"\n",
    "city_df.head()"
   ]
  },
  {
   "cell_type": "code",
   "execution_count": 42,
   "metadata": {},
   "outputs": [],
   "source": [
    "rand_lat = round(np.random.uniform(-90, 90), 2)\n",
    "rand_long = round(np.random.uniform(-180, 180), 2)\n",
    "city_data = citipy.nearest_city(rand_lat, rand_long)\n",
    "city_df[\"City\"] = city_data.city_name\n",
    "city_df[\"Country\"] = city_data.country_code\n",
    "\n",
    "\n"
   ]
  },
  {
   "cell_type": "code",
   "execution_count": 43,
   "metadata": {},
   "outputs": [
    {
     "data": {
      "text/html": [
       "<div>\n",
       "<style scoped>\n",
       "    .dataframe tbody tr th:only-of-type {\n",
       "        vertical-align: middle;\n",
       "    }\n",
       "\n",
       "    .dataframe tbody tr th {\n",
       "        vertical-align: top;\n",
       "    }\n",
       "\n",
       "    .dataframe thead th {\n",
       "        text-align: right;\n",
       "    }\n",
       "</style>\n",
       "<table border=\"1\" class=\"dataframe\">\n",
       "  <thead>\n",
       "    <tr style=\"text-align: right;\">\n",
       "      <th></th>\n",
       "      <th>City</th>\n",
       "      <th>Country</th>\n",
       "    </tr>\n",
       "  </thead>\n",
       "  <tbody>\n",
       "  </tbody>\n",
       "</table>\n",
       "</div>"
      ],
      "text/plain": [
       "Empty DataFrame\n",
       "Columns: [City, Country]\n",
       "Index: []"
      ]
     },
     "execution_count": 43,
     "metadata": {},
     "output_type": "execute_result"
    }
   ],
   "source": [
    "city_df.head()"
   ]
  },
  {
   "cell_type": "code",
   "execution_count": 26,
   "metadata": {},
   "outputs": [],
   "source": [
    "# select at last 500 unique cities based on latitude and longitude\n",
    "city_list = []\n",
    "ctr = 0\n",
    "\n",
    "\n",
    "while ctr < 5:\n",
    "    \n",
    "    # get the city and country\n",
    "    rand_lat = round(np.random.uniform(-90, 90), 2)\n",
    "    rand_long = round(np.random.uniform(-180, 180), 2)\n",
    "    city_data = citipy.nearest_city(rand_lat, rand_long)\n",
    "    name = city_data.city_name\n",
    "    country_code = city_data.country_code\n",
    "    # print(f\"{name}\")\n",
    "    \n",
    "    # iterate over dataframe to check for duplicate cities\n",
    "    for row in city_df.iterrows():\n",
    "        print(f\"in loop\")\n",
    "        if row[\"City\"] == name and row[\"Country\"] == country_code:\n",
    "            print(f\"Duplicate City: {name}\")\n",
    "        else:\n",
    "            city_df[\"City\"] = name\n",
    "            city_df[\"Country\"] = country_code\n",
    "            print(f\"{name}\")\n",
    "            break\n",
    "    ctr += 1\n",
    "    \n",
    "    "
   ]
  },
  {
   "cell_type": "code",
   "execution_count": 27,
   "metadata": {},
   "outputs": [
    {
     "data": {
      "text/html": [
       "<div>\n",
       "<style scoped>\n",
       "    .dataframe tbody tr th:only-of-type {\n",
       "        vertical-align: middle;\n",
       "    }\n",
       "\n",
       "    .dataframe tbody tr th {\n",
       "        vertical-align: top;\n",
       "    }\n",
       "\n",
       "    .dataframe thead th {\n",
       "        text-align: right;\n",
       "    }\n",
       "</style>\n",
       "<table border=\"1\" class=\"dataframe\">\n",
       "  <thead>\n",
       "    <tr style=\"text-align: right;\">\n",
       "      <th></th>\n",
       "      <th>City</th>\n",
       "      <th>Country</th>\n",
       "      <th>Latitude</th>\n",
       "      <th>Longitude</th>\n",
       "      <th>Temperature</th>\n",
       "      <th>Humidity</th>\n",
       "      <th>Cloudiness</th>\n",
       "      <th>Wind Speed</th>\n",
       "    </tr>\n",
       "  </thead>\n",
       "  <tbody>\n",
       "  </tbody>\n",
       "</table>\n",
       "</div>"
      ],
      "text/plain": [
       "Empty DataFrame\n",
       "Columns: [City, Country, Latitude, Longitude, Temperature, Humidity, Cloudiness, Wind Speed]\n",
       "Index: []"
      ]
     },
     "execution_count": 27,
     "metadata": {},
     "output_type": "execute_result"
    }
   ],
   "source": [
    "city_df.head()"
   ]
  },
  {
   "cell_type": "code",
   "execution_count": null,
   "metadata": {},
   "outputs": [],
   "source": []
  }
 ],
 "metadata": {
  "kernelspec": {
   "display_name": "Python 3",
   "language": "python",
   "name": "python3"
  },
  "language_info": {
   "codemirror_mode": {
    "name": "ipython",
    "version": 3
   },
   "file_extension": ".py",
   "mimetype": "text/x-python",
   "name": "python",
   "nbconvert_exporter": "python",
   "pygments_lexer": "ipython3",
   "version": "3.6.4"
  }
 },
 "nbformat": 4,
 "nbformat_minor": 2
}
