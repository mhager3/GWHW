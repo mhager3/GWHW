{
 "cells": [
  {
   "cell_type": "code",
   "execution_count": 9,
   "metadata": {},
   "outputs": [],
   "source": [
    "from flask import (\n",
    "    Flask,\n",
    "    render_template,\n",
    "    jsonify,\n",
    "    request,\n",
    "    redirect)\n",
    "\n",
    "import sqlalchemy\n",
    "from sqlalchemy.ext.automap import automap_base\n",
    "from sqlalchemy.orm import Session\n",
    "from sqlalchemy import create_engine\n",
    "\n",
    "app = Flask(__name__)\n",
    "\n",
    "engine = create_engine(\"sqlite:///db/belly_button_biodiversity.sqlite\")\n",
    "Base = automap_base()\n",
    "Base.prepare(engine, reflect=True)\n",
    "\n",
    "OTU = Base.classes.otu\n",
    "samp_meta = Base.classes.samples_metadata\n",
    "Samples = Base.classes.samples\n",
    "\n",
    "session = Session(engine)"
   ]
  },
  {
   "cell_type": "code",
   "execution_count": 20,
   "metadata": {},
   "outputs": [
    {
     "name": "stdout",
     "output_type": "stream",
     "text": [
      "SELECT samples.otu_id AS samples_otu_id, samples.\"BB_940\" AS \"samples_BB_940\", samples.\"BB_941\" AS \"samples_BB_941\", samples.\"BB_943\" AS \"samples_BB_943\", samples.\"BB_944\" AS \"samples_BB_944\", samples.\"BB_945\" AS \"samples_BB_945\", samples.\"BB_946\" AS \"samples_BB_946\", samples.\"BB_947\" AS \"samples_BB_947\", samples.\"BB_948\" AS \"samples_BB_948\", samples.\"BB_949\" AS \"samples_BB_949\", samples.\"BB_950\" AS \"samples_BB_950\", samples.\"BB_952\" AS \"samples_BB_952\", samples.\"BB_953\" AS \"samples_BB_953\", samples.\"BB_954\" AS \"samples_BB_954\", samples.\"BB_955\" AS \"samples_BB_955\", samples.\"BB_956\" AS \"samples_BB_956\", samples.\"BB_958\" AS \"samples_BB_958\", samples.\"BB_959\" AS \"samples_BB_959\", samples.\"BB_960\" AS \"samples_BB_960\", samples.\"BB_961\" AS \"samples_BB_961\", samples.\"BB_962\" AS \"samples_BB_962\", samples.\"BB_963\" AS \"samples_BB_963\", samples.\"BB_964\" AS \"samples_BB_964\", samples.\"BB_966\" AS \"samples_BB_966\", samples.\"BB_967\" AS \"samples_BB_967\", samples.\"BB_968\" AS \"samples_BB_968\", samples.\"BB_969\" AS \"samples_BB_969\", samples.\"BB_970\" AS \"samples_BB_970\", samples.\"BB_971\" AS \"samples_BB_971\", samples.\"BB_972\" AS \"samples_BB_972\", samples.\"BB_973\" AS \"samples_BB_973\", samples.\"BB_974\" AS \"samples_BB_974\", samples.\"BB_975\" AS \"samples_BB_975\", samples.\"BB_978\" AS \"samples_BB_978\", samples.\"BB_1233\" AS \"samples_BB_1233\", samples.\"BB_1234\" AS \"samples_BB_1234\", samples.\"BB_1235\" AS \"samples_BB_1235\", samples.\"BB_1236\" AS \"samples_BB_1236\", samples.\"BB_1237\" AS \"samples_BB_1237\", samples.\"BB_1238\" AS \"samples_BB_1238\", samples.\"BB_1242\" AS \"samples_BB_1242\", samples.\"BB_1243\" AS \"samples_BB_1243\", samples.\"BB_1246\" AS \"samples_BB_1246\", samples.\"BB_1253\" AS \"samples_BB_1253\", samples.\"BB_1254\" AS \"samples_BB_1254\", samples.\"BB_1258\" AS \"samples_BB_1258\", samples.\"BB_1259\" AS \"samples_BB_1259\", samples.\"BB_1260\" AS \"samples_BB_1260\", samples.\"BB_1264\" AS \"samples_BB_1264\", samples.\"BB_1265\" AS \"samples_BB_1265\", samples.\"BB_1273\" AS \"samples_BB_1273\", samples.\"BB_1275\" AS \"samples_BB_1275\", samples.\"BB_1276\" AS \"samples_BB_1276\", samples.\"BB_1277\" AS \"samples_BB_1277\", samples.\"BB_1278\" AS \"samples_BB_1278\", samples.\"BB_1279\" AS \"samples_BB_1279\", samples.\"BB_1280\" AS \"samples_BB_1280\", samples.\"BB_1281\" AS \"samples_BB_1281\", samples.\"BB_1282\" AS \"samples_BB_1282\", samples.\"BB_1283\" AS \"samples_BB_1283\", samples.\"BB_1284\" AS \"samples_BB_1284\", samples.\"BB_1285\" AS \"samples_BB_1285\", samples.\"BB_1286\" AS \"samples_BB_1286\", samples.\"BB_1287\" AS \"samples_BB_1287\", samples.\"BB_1288\" AS \"samples_BB_1288\", samples.\"BB_1289\" AS \"samples_BB_1289\", samples.\"BB_1290\" AS \"samples_BB_1290\", samples.\"BB_1291\" AS \"samples_BB_1291\", samples.\"BB_1292\" AS \"samples_BB_1292\", samples.\"BB_1293\" AS \"samples_BB_1293\", samples.\"BB_1294\" AS \"samples_BB_1294\", samples.\"BB_1295\" AS \"samples_BB_1295\", samples.\"BB_1296\" AS \"samples_BB_1296\", samples.\"BB_1297\" AS \"samples_BB_1297\", samples.\"BB_1298\" AS \"samples_BB_1298\", samples.\"BB_1308\" AS \"samples_BB_1308\", samples.\"BB_1309\" AS \"samples_BB_1309\", samples.\"BB_1310\" AS \"samples_BB_1310\", samples.\"BB_1374\" AS \"samples_BB_1374\", samples.\"BB_1415\" AS \"samples_BB_1415\", samples.\"BB_1439\" AS \"samples_BB_1439\", samples.\"BB_1441\" AS \"samples_BB_1441\", samples.\"BB_1443\" AS \"samples_BB_1443\", samples.\"BB_1486\" AS \"samples_BB_1486\", samples.\"BB_1487\" AS \"samples_BB_1487\", samples.\"BB_1489\" AS \"samples_BB_1489\", samples.\"BB_1490\" AS \"samples_BB_1490\", samples.\"BB_1491\" AS \"samples_BB_1491\", samples.\"BB_1494\" AS \"samples_BB_1494\", samples.\"BB_1495\" AS \"samples_BB_1495\", samples.\"BB_1497\" AS \"samples_BB_1497\", samples.\"BB_1499\" AS \"samples_BB_1499\", samples.\"BB_1500\" AS \"samples_BB_1500\", samples.\"BB_1501\" AS \"samples_BB_1501\", samples.\"BB_1502\" AS \"samples_BB_1502\", samples.\"BB_1503\" AS \"samples_BB_1503\", samples.\"BB_1504\" AS \"samples_BB_1504\", samples.\"BB_1505\" AS \"samples_BB_1505\", samples.\"BB_1506\" AS \"samples_BB_1506\", samples.\"BB_1507\" AS \"samples_BB_1507\", samples.\"BB_1508\" AS \"samples_BB_1508\", samples.\"BB_1510\" AS \"samples_BB_1510\", samples.\"BB_1511\" AS \"samples_BB_1511\", samples.\"BB_1512\" AS \"samples_BB_1512\", samples.\"BB_1513\" AS \"samples_BB_1513\", samples.\"BB_1514\" AS \"samples_BB_1514\", samples.\"BB_1515\" AS \"samples_BB_1515\", samples.\"BB_1516\" AS \"samples_BB_1516\", samples.\"BB_1517\" AS \"samples_BB_1517\", samples.\"BB_1518\" AS \"samples_BB_1518\", samples.\"BB_1519\" AS \"samples_BB_1519\", samples.\"BB_1521\" AS \"samples_BB_1521\", samples.\"BB_1524\" AS \"samples_BB_1524\", samples.\"BB_1526\" AS \"samples_BB_1526\", samples.\"BB_1527\" AS \"samples_BB_1527\", samples.\"BB_1530\" AS \"samples_BB_1530\", samples.\"BB_1531\" AS \"samples_BB_1531\", samples.\"BB_1532\" AS \"samples_BB_1532\", samples.\"BB_1533\" AS \"samples_BB_1533\", samples.\"BB_1534\" AS \"samples_BB_1534\", samples.\"BB_1535\" AS \"samples_BB_1535\", samples.\"BB_1536\" AS \"samples_BB_1536\", samples.\"BB_1537\" AS \"samples_BB_1537\", samples.\"BB_1539\" AS \"samples_BB_1539\", samples.\"BB_1540\" AS \"samples_BB_1540\", samples.\"BB_1541\" AS \"samples_BB_1541\", samples.\"BB_1542\" AS \"samples_BB_1542\", samples.\"BB_1543\" AS \"samples_BB_1543\", samples.\"BB_1544\" AS \"samples_BB_1544\", samples.\"BB_1545\" AS \"samples_BB_1545\", samples.\"BB_1546\" AS \"samples_BB_1546\", samples.\"BB_1547\" AS \"samples_BB_1547\", samples.\"BB_1548\" AS \"samples_BB_1548\", samples.\"BB_1549\" AS \"samples_BB_1549\", samples.\"BB_1550\" AS \"samples_BB_1550\", samples.\"BB_1551\" AS \"samples_BB_1551\", samples.\"BB_1552\" AS \"samples_BB_1552\", samples.\"BB_1553\" AS \"samples_BB_1553\", samples.\"BB_1554\" AS \"samples_BB_1554\", samples.\"BB_1555\" AS \"samples_BB_1555\", samples.\"BB_1556\" AS \"samples_BB_1556\", samples.\"BB_1557\" AS \"samples_BB_1557\", samples.\"BB_1558\" AS \"samples_BB_1558\", samples.\"BB_1561\" AS \"samples_BB_1561\", samples.\"BB_1562\" AS \"samples_BB_1562\", samples.\"BB_1563\" AS \"samples_BB_1563\", samples.\"BB_1564\" AS \"samples_BB_1564\", samples.\"BB_1572\" AS \"samples_BB_1572\", samples.\"BB_1573\" AS \"samples_BB_1573\", samples.\"BB_1574\" AS \"samples_BB_1574\", samples.\"BB_1576\" AS \"samples_BB_1576\", samples.\"BB_1577\" AS \"samples_BB_1577\", samples.\"BB_1581\" AS \"samples_BB_1581\", samples.\"BB_1601\" AS \"samples_BB_1601\" \n",
      "FROM samples\n"
     ]
    }
   ],
   "source": [
    "x = session.query(Samples)\n",
    "print(x)"
   ]
  },
  {
   "cell_type": "code",
   "execution_count": 10,
   "metadata": {},
   "outputs": [],
   "source": [
    "@app.route(\"/\")\n",
    "def home():\n",
    "    \"\"\"Render Home Page.\"\"\"\n",
    "    return render_template(\"index.html\")"
   ]
  },
  {
   "cell_type": "code",
   "execution_count": 11,
   "metadata": {},
   "outputs": [],
   "source": [
    "@app.route(\"/names\")\n",
    "def sample_names():\n",
    "    results = session.query(samp_meta.SAMPLEID).all()\n",
    "    names = []\n",
    "    for name in results:\n",
    "        names.append(\"BB_\" + str(name[0]))  \n",
    "    return jsonify(names)\n",
    "\n",
    "\n"
   ]
  },
  {
   "cell_type": "code",
   "execution_count": 12,
   "metadata": {},
   "outputs": [],
   "source": [
    "@app.route(\"/otu\")\n",
    "def get_otu_descriptions():\n",
    "    results = session.query(OTU.lowest_taxonomic_unit_found).all()\n",
    "    otu_descriptions = []\n",
    "    i = 0\n",
    "    while i < len(results):\n",
    "        otu_descriptions.append(results[i][0])\n",
    "        i += 1\n",
    "\n",
    "    return jsonify(otu_descriptions)\n",
    "\n",
    "\n"
   ]
  },
  {
   "cell_type": "code",
   "execution_count": 13,
   "metadata": {},
   "outputs": [],
   "source": [
    "@app.route(\"/metadata/<sample>\")\n",
    "def get_sample_metadata(sample):\n",
    "    sample = int(sample[3:])\n",
    "    results = session.query(samp_meta.AGE, samp_meta.BBTYPE, samp_meta.ETHNICITY, samp_meta.GENDER, samp_meta.LOCATION, samp_meta.SAMPLEID).filter(samp_meta.SAMPLEID == sample)\n",
    "    results_dict = {\"AGE\": results[0][0], \"BBTYPE\": results[0][1], \"ETHNICITY\": results[0][2], \"GENDER\": results[0][3], \"LOCATION\": results[0][4], \"SAMPLEID\": results[0][5]}\n",
    "    return jsonify(results_dict)\n",
    "\n"
   ]
  },
  {
   "cell_type": "code",
   "execution_count": 14,
   "metadata": {},
   "outputs": [],
   "source": [
    "@app.route(\"/wfreq/<sample>\")\n",
    "def get_washing_freq(sample):\n",
    "    sample = int(sample[3:])\n",
    "    results = session.query(samp_meta.WFREQ).filter(samp_meta.SAMPLEID == sample)    \n",
    "    washing_freq = int(results[0][0])\n",
    "    return jsonify(washing_freq)\n",
    "    \n"
   ]
  },
  {
   "cell_type": "code",
   "execution_count": 15,
   "metadata": {},
   "outputs": [],
   "source": [
    "@app.route(\"/samples/<sample>\")\n",
    "def get_sample_values(sample):\n",
    "    results = session.query(Samples.otu_id, getattr(Samples, sample)).order_by(getattr(Samples, sample).desc())\n",
    "    otu_ids = []\n",
    "    sample_values = []\n",
    "\n",
    "    for item, value in results:\n",
    "        otu_ids.append(item)\n",
    "        sample_values.append(value)\n",
    "\n",
    "    results_dict = {\"otu_ids\": otu_ids, \"sample_values\": sample_values}\n",
    "    return jsonify(results_dict)"
   ]
  },
  {
   "cell_type": "code",
   "execution_count": 17,
   "metadata": {},
   "outputs": [
    {
     "ename": "UnsupportedOperation",
     "evalue": "not writable",
     "output_type": "error",
     "traceback": [
      "\u001b[1;31m---------------------------------------------------------------------------\u001b[0m",
      "\u001b[1;31mUnsupportedOperation\u001b[0m                      Traceback (most recent call last)",
      "\u001b[1;32m<ipython-input-17-7856dce4d34b>\u001b[0m in \u001b[0;36m<module>\u001b[1;34m()\u001b[0m\n\u001b[0;32m      1\u001b[0m \u001b[1;32mif\u001b[0m \u001b[0m__name__\u001b[0m \u001b[1;33m==\u001b[0m \u001b[1;34m'__main__'\u001b[0m\u001b[1;33m:\u001b[0m\u001b[1;33m\u001b[0m\u001b[0m\n\u001b[1;32m----> 2\u001b[1;33m     \u001b[0mapp\u001b[0m\u001b[1;33m.\u001b[0m\u001b[0mrun\u001b[0m\u001b[1;33m(\u001b[0m\u001b[0mdebug\u001b[0m\u001b[1;33m=\u001b[0m\u001b[1;32mTrue\u001b[0m\u001b[1;33m)\u001b[0m\u001b[1;33m\u001b[0m\u001b[0m\n\u001b[0m",
      "\u001b[1;32m~\\Anaconda3\\lib\\site-packages\\flask\\app.py\u001b[0m in \u001b[0;36mrun\u001b[1;34m(self, host, port, debug, load_dotenv, **options)\u001b[0m\n\u001b[0;32m    936\u001b[0m         \u001b[0moptions\u001b[0m\u001b[1;33m.\u001b[0m\u001b[0msetdefault\u001b[0m\u001b[1;33m(\u001b[0m\u001b[1;34m'threaded'\u001b[0m\u001b[1;33m,\u001b[0m \u001b[1;32mTrue\u001b[0m\u001b[1;33m)\u001b[0m\u001b[1;33m\u001b[0m\u001b[0m\n\u001b[0;32m    937\u001b[0m \u001b[1;33m\u001b[0m\u001b[0m\n\u001b[1;32m--> 938\u001b[1;33m         \u001b[0mcli\u001b[0m\u001b[1;33m.\u001b[0m\u001b[0mshow_server_banner\u001b[0m\u001b[1;33m(\u001b[0m\u001b[0mself\u001b[0m\u001b[1;33m.\u001b[0m\u001b[0menv\u001b[0m\u001b[1;33m,\u001b[0m \u001b[0mself\u001b[0m\u001b[1;33m.\u001b[0m\u001b[0mdebug\u001b[0m\u001b[1;33m,\u001b[0m \u001b[0mself\u001b[0m\u001b[1;33m.\u001b[0m\u001b[0mname\u001b[0m\u001b[1;33m,\u001b[0m \u001b[1;32mFalse\u001b[0m\u001b[1;33m)\u001b[0m\u001b[1;33m\u001b[0m\u001b[0m\n\u001b[0m\u001b[0;32m    939\u001b[0m \u001b[1;33m\u001b[0m\u001b[0m\n\u001b[0;32m    940\u001b[0m         \u001b[1;32mfrom\u001b[0m \u001b[0mwerkzeug\u001b[0m\u001b[1;33m.\u001b[0m\u001b[0mserving\u001b[0m \u001b[1;32mimport\u001b[0m \u001b[0mrun_simple\u001b[0m\u001b[1;33m\u001b[0m\u001b[0m\n",
      "\u001b[1;32m~\\Anaconda3\\lib\\site-packages\\flask\\cli.py\u001b[0m in \u001b[0;36mshow_server_banner\u001b[1;34m(env, debug, app_import_path, eager_loading)\u001b[0m\n\u001b[0;32m    627\u001b[0m             \u001b[0mmessage\u001b[0m \u001b[1;33m+=\u001b[0m \u001b[1;34m' (lazy loading)'\u001b[0m\u001b[1;33m\u001b[0m\u001b[0m\n\u001b[0;32m    628\u001b[0m \u001b[1;33m\u001b[0m\u001b[0m\n\u001b[1;32m--> 629\u001b[1;33m         \u001b[0mclick\u001b[0m\u001b[1;33m.\u001b[0m\u001b[0mecho\u001b[0m\u001b[1;33m(\u001b[0m\u001b[0mmessage\u001b[0m\u001b[1;33m)\u001b[0m\u001b[1;33m\u001b[0m\u001b[0m\n\u001b[0m\u001b[0;32m    630\u001b[0m \u001b[1;33m\u001b[0m\u001b[0m\n\u001b[0;32m    631\u001b[0m     \u001b[0mclick\u001b[0m\u001b[1;33m.\u001b[0m\u001b[0mecho\u001b[0m\u001b[1;33m(\u001b[0m\u001b[1;34m' * Environment: {0}'\u001b[0m\u001b[1;33m.\u001b[0m\u001b[0mformat\u001b[0m\u001b[1;33m(\u001b[0m\u001b[0menv\u001b[0m\u001b[1;33m)\u001b[0m\u001b[1;33m)\u001b[0m\u001b[1;33m\u001b[0m\u001b[0m\n",
      "\u001b[1;32m~\\Anaconda3\\lib\\site-packages\\click\\utils.py\u001b[0m in \u001b[0;36mecho\u001b[1;34m(message, file, nl, err, color)\u001b[0m\n\u001b[0;32m    257\u001b[0m \u001b[1;33m\u001b[0m\u001b[0m\n\u001b[0;32m    258\u001b[0m     \u001b[1;32mif\u001b[0m \u001b[0mmessage\u001b[0m\u001b[1;33m:\u001b[0m\u001b[1;33m\u001b[0m\u001b[0m\n\u001b[1;32m--> 259\u001b[1;33m         \u001b[0mfile\u001b[0m\u001b[1;33m.\u001b[0m\u001b[0mwrite\u001b[0m\u001b[1;33m(\u001b[0m\u001b[0mmessage\u001b[0m\u001b[1;33m)\u001b[0m\u001b[1;33m\u001b[0m\u001b[0m\n\u001b[0m\u001b[0;32m    260\u001b[0m     \u001b[0mfile\u001b[0m\u001b[1;33m.\u001b[0m\u001b[0mflush\u001b[0m\u001b[1;33m(\u001b[0m\u001b[1;33m)\u001b[0m\u001b[1;33m\u001b[0m\u001b[0m\n\u001b[0;32m    261\u001b[0m \u001b[1;33m\u001b[0m\u001b[0m\n",
      "\u001b[1;31mUnsupportedOperation\u001b[0m: not writable"
     ]
    }
   ],
   "source": [
    "if __name__ == '__main__':\n",
    "    app.run(debug=True)"
   ]
  },
  {
   "cell_type": "code",
   "execution_count": null,
   "metadata": {},
   "outputs": [],
   "source": []
  }
 ],
 "metadata": {
  "kernelspec": {
   "display_name": "Python 3",
   "language": "python",
   "name": "python3"
  },
  "language_info": {
   "codemirror_mode": {
    "name": "ipython",
    "version": 3
   },
   "file_extension": ".py",
   "mimetype": "text/x-python",
   "name": "python",
   "nbconvert_exporter": "python",
   "pygments_lexer": "ipython3",
   "version": "3.6.5"
  }
 },
 "nbformat": 4,
 "nbformat_minor": 2
}
